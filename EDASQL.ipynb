{
 "cells": [
  {
   "cell_type": "markdown",
   "metadata": {},
   "source": [
    "<p style=\"text-align:center\">\n",
    "    <a href=\"https://skills.network/?utm_medium=Exinfluencer&utm_source=Exinfluencer&utm_content=000026UJ&utm_term=10006555&utm_id=NA-SkillsNetwork-Channel-SkillsNetworkCoursesIBMDS0321ENSkillsNetwork865-2022-01-01\" target=\"_blank\">\n",
    "    <img src=\"https://cf-courses-data.s3.us.cloud-object-storage.appdomain.cloud/assets/logos/SN_web_lightmode.png\" width=\"200\" alt=\"Skills Network Logo\"  />\n",
    "    </a>\n",
    "</p>\n",
    "\n",
    "<h1 align=center><font size = 5>Assignment: SQL Notebook for Peer Assignment</font></h1>\n",
    "\n",
    "Estimated time needed: **60** minutes.\n",
    "\n",
    "## Introduction\n",
    "Using this Python notebook you will:\n",
    "\n",
    "1.  Understand the Spacex DataSet\n",
    "2.  Load the dataset  into the corresponding table in a Db2 database\n",
    "3.  Execute SQL queries to answer assignment questions \n"
   ]
  },
  {
   "cell_type": "markdown",
   "metadata": {},
   "source": [
    "## Overview of the DataSet\n",
    "\n",
    "SpaceX has gained worldwide attention for a series of historic milestones. \n",
    "\n",
    "It is the only private company ever to return a spacecraft from low-earth orbit, which it first accomplished in December 2010.\n",
    "SpaceX advertises Falcon 9 rocket launches on its website with a cost of 62 million dollars wheras other providers cost upward of 165 million dollars each, much of the savings is because Space X can reuse the first stage. \n",
    "\n",
    "\n",
    "Therefore if we can determine if the first stage will land, we can determine the cost of a launch. \n",
    "\n",
    "This information can be used if an alternate company wants to bid against SpaceX for a rocket launch.\n",
    "\n",
    "This dataset includes a record for each payload carried during a SpaceX mission into outer space.\n"
   ]
  },
  {
   "cell_type": "markdown",
   "metadata": {},
   "source": [
    "### Download the datasets\n",
    "\n",
    "This assignment requires you to load the spacex dataset.\n",
    "\n",
    "In many cases the dataset to be analyzed is available as a .CSV (comma separated values) file, perhaps on the internet. Click on the link below to download and save the dataset (.CSV file):\n",
    "\n",
    " <a href=\"https://cf-courses-data.s3.us.cloud-object-storage.appdomain.cloud/IBM-DS0321EN-SkillsNetwork/labs/module_2/data/Spacex.csv\" target=\"_blank\">Spacex DataSet</a>\n",
    "\n"
   ]
  },
  {
   "cell_type": "code",
   "execution_count": 2,
   "metadata": {
    "tags": []
   },
   "outputs": [
    {
     "name": "stdout",
     "output_type": "stream",
     "text": [
      "Collecting sqlalchemy==1.3.9\n",
      "  Downloading SQLAlchemy-1.3.9.tar.gz (6.0 MB)\n",
      "\u001b[2K     \u001b[90m━━━━━━━━━━━━━━━━━━━━━━━━━━━━━━━━━━━━━━━━\u001b[0m \u001b[32m6.0/6.0 MB\u001b[0m \u001b[31m71.0 MB/s\u001b[0m eta \u001b[36m0:00:00\u001b[0m:00:01\u001b[0m0:01\u001b[0m\n",
      "\u001b[?25h  Preparing metadata (setup.py) ... \u001b[?25ldone\n",
      "\u001b[?25hBuilding wheels for collected packages: sqlalchemy\n",
      "  Building wheel for sqlalchemy (setup.py) ... \u001b[?25ldone\n",
      "\u001b[?25h  Created wheel for sqlalchemy: filename=SQLAlchemy-1.3.9-cp37-cp37m-linux_x86_64.whl size=1159121 sha256=9f5eff5d0ffb959e8b756247eaf0cb259ccc2417a123aea74822448495ee3fec\n",
      "  Stored in directory: /home/jupyterlab/.cache/pip/wheels/03/71/13/010faf12246f72dc76b4150e6e599d13a85b4435e06fb9e51f\n",
      "Successfully built sqlalchemy\n",
      "Installing collected packages: sqlalchemy\n",
      "  Attempting uninstall: sqlalchemy\n",
      "    Found existing installation: SQLAlchemy 1.3.24\n",
      "    Uninstalling SQLAlchemy-1.3.24:\n",
      "      Successfully uninstalled SQLAlchemy-1.3.24\n",
      "Successfully installed sqlalchemy-1.3.9\n"
     ]
    }
   ],
   "source": [
    "!pip install sqlalchemy==1.3.9\n"
   ]
  },
  {
   "cell_type": "markdown",
   "metadata": {},
   "source": [
    "### Connect to the database\n",
    "\n",
    "Let us first load the SQL extension and establish a connection with the database\n"
   ]
  },
  {
   "cell_type": "code",
   "execution_count": 3,
   "metadata": {
    "tags": []
   },
   "outputs": [],
   "source": [
    "%load_ext sql"
   ]
  },
  {
   "cell_type": "code",
   "execution_count": 4,
   "metadata": {
    "tags": []
   },
   "outputs": [],
   "source": [
    "import csv, sqlite3\n",
    "\n",
    "con = sqlite3.connect(\"my_data1.db\")\n",
    "cur = con.cursor()"
   ]
  },
  {
   "cell_type": "code",
   "execution_count": 5,
   "metadata": {
    "tags": []
   },
   "outputs": [],
   "source": [
    "!pip install -q pandas==1.1.5"
   ]
  },
  {
   "cell_type": "code",
   "execution_count": 6,
   "metadata": {
    "tags": []
   },
   "outputs": [
    {
     "data": {
      "text/plain": [
       "'Connected: @my_data1.db'"
      ]
     },
     "execution_count": 6,
     "metadata": {},
     "output_type": "execute_result"
    }
   ],
   "source": [
    "%sql sqlite:///my_data1.db"
   ]
  },
  {
   "cell_type": "code",
   "execution_count": 7,
   "metadata": {
    "tags": []
   },
   "outputs": [
    {
     "name": "stderr",
     "output_type": "stream",
     "text": [
      "/home/jupyterlab/conda/envs/python/lib/python3.7/site-packages/pandas/core/generic.py:2882: UserWarning: The spaces in these column names will not be changed. In pandas versions < 0.14, spaces were converted to underscores.\n",
      "  both result in 0.1234 being formatted as 0.12.\n"
     ]
    }
   ],
   "source": [
    "import pandas as pd\n",
    "df = pd.read_csv(\"https://cf-courses-data.s3.us.cloud-object-storage.appdomain.cloud/IBM-DS0321EN-SkillsNetwork/labs/module_2/data/Spacex.csv\")\n",
    "df.to_sql(\"SPACEXTBL\", con, if_exists='replace', index=False,method=\"multi\")"
   ]
  },
  {
   "cell_type": "code",
   "execution_count": 8,
   "metadata": {
    "tags": []
   },
   "outputs": [
    {
     "name": "stdout",
     "output_type": "stream",
     "text": [
      " * sqlite:///my_data1.db\n",
      "(sqlite3.OperationalError) table spacex already exists\n",
      "[SQL: CREATE TABLE spacex(\n",
      "Date             DATE NOT NULL PRIMARY KEY,\n",
      "Time_UTC         VARCHAR(8) NOT NULL,\n",
      "Booster_Version  VARCHAR(14) NOT NULL,\n",
      "Launch_Site      VARCHAR(12) NOT NULL,\n",
      "Payload          VARCHAR(61) NOT NULL,\n",
      "PAYLOAD_MASS_KG_ INTEGER  NOT NULL,\n",
      "Orbit            VARCHAR(11) NOT NULL,\n",
      "Customer         VARCHAR(57) NOT NULL,\n",
      "Mission_Outcome  VARCHAR(32) NOT NULL,\n",
      "Landing_Outcome  VARCHAR(22) NOT NULL\n",
      ");]\n",
      "(Background on this error at: http://sqlalche.me/e/e3q8)\n"
     ]
    }
   ],
   "source": [
    "%%sql CREATE TABLE spacex(\n",
    "Date             DATE NOT NULL PRIMARY KEY,\n",
    "Time_UTC         VARCHAR(8) NOT NULL,\n",
    "Booster_Version  VARCHAR(14) NOT NULL,\n",
    "Launch_Site      VARCHAR(12) NOT NULL,\n",
    "Payload          VARCHAR(61) NOT NULL,\n",
    "PAYLOAD_MASS_KG_ INTEGER  NOT NULL,\n",
    "Orbit            VARCHAR(11) NOT NULL,\n",
    "Customer         VARCHAR(57) NOT NULL,\n",
    "Mission_Outcome  VARCHAR(32) NOT NULL,\n",
    "Landing_Outcome  VARCHAR(22) NOT NULL\n",
    ");"
   ]
  },
  {
   "cell_type": "code",
   "execution_count": 9,
   "metadata": {
    "tags": []
   },
   "outputs": [
    {
     "name": "stdout",
     "output_type": "stream",
     "text": [
      " * sqlite:///my_data1.db\n"
     ]
    },
    {
     "ename": "IntegrityError",
     "evalue": "(sqlite3.IntegrityError) UNIQUE constraint failed: spacex.Date\n[SQL: INSERT INTO spacex(Date,Time_UTC,Booster_Version,Launch_Site,Payload,PAYLOAD_MASS_KG_,Orbit,Customer,Mission_Outcome,Landing_Outcome) VALUES ('2010-06-04','18:45:00','F9 v1.0  B0003','CCAFS LC-40','Dragon Spacecraft Qualification Unit',0,'LEO','SpaceX','Success','Failure (parachute)');]\n(Background on this error at: http://sqlalche.me/e/gkpj)",
     "output_type": "error",
     "traceback": [
      "\u001b[0;31m---------------------------------------------------------------------------\u001b[0m",
      "\u001b[0;31mIntegrityError\u001b[0m                            Traceback (most recent call last)",
      "\u001b[0;32m~/conda/envs/python/lib/python3.7/site-packages/sqlalchemy/engine/base.py\u001b[0m in \u001b[0;36m_execute_context\u001b[0;34m(self, dialect, constructor, statement, parameters, *args)\u001b[0m\n\u001b[1;32m   1248\u001b[0m                     self.dialect.do_execute(\n\u001b[0;32m-> 1249\u001b[0;31m                         \u001b[0mcursor\u001b[0m\u001b[0;34m,\u001b[0m \u001b[0mstatement\u001b[0m\u001b[0;34m,\u001b[0m \u001b[0mparameters\u001b[0m\u001b[0;34m,\u001b[0m \u001b[0mcontext\u001b[0m\u001b[0;34m\u001b[0m\u001b[0;34m\u001b[0m\u001b[0m\n\u001b[0m\u001b[1;32m   1250\u001b[0m                     )\n",
      "\u001b[0;32m~/conda/envs/python/lib/python3.7/site-packages/sqlalchemy/engine/default.py\u001b[0m in \u001b[0;36mdo_execute\u001b[0;34m(self, cursor, statement, parameters, context)\u001b[0m\n\u001b[1;32m    579\u001b[0m     \u001b[0;32mdef\u001b[0m \u001b[0mdo_execute\u001b[0m\u001b[0;34m(\u001b[0m\u001b[0mself\u001b[0m\u001b[0;34m,\u001b[0m \u001b[0mcursor\u001b[0m\u001b[0;34m,\u001b[0m \u001b[0mstatement\u001b[0m\u001b[0;34m,\u001b[0m \u001b[0mparameters\u001b[0m\u001b[0;34m,\u001b[0m \u001b[0mcontext\u001b[0m\u001b[0;34m=\u001b[0m\u001b[0;32mNone\u001b[0m\u001b[0;34m)\u001b[0m\u001b[0;34m:\u001b[0m\u001b[0;34m\u001b[0m\u001b[0;34m\u001b[0m\u001b[0m\n\u001b[0;32m--> 580\u001b[0;31m         \u001b[0mcursor\u001b[0m\u001b[0;34m.\u001b[0m\u001b[0mexecute\u001b[0m\u001b[0;34m(\u001b[0m\u001b[0mstatement\u001b[0m\u001b[0;34m,\u001b[0m \u001b[0mparameters\u001b[0m\u001b[0;34m)\u001b[0m\u001b[0;34m\u001b[0m\u001b[0;34m\u001b[0m\u001b[0m\n\u001b[0m\u001b[1;32m    581\u001b[0m \u001b[0;34m\u001b[0m\u001b[0m\n",
      "\u001b[0;31mIntegrityError\u001b[0m: UNIQUE constraint failed: spacex.Date",
      "\nThe above exception was the direct cause of the following exception:\n",
      "\u001b[0;31mIntegrityError\u001b[0m                            Traceback (most recent call last)",
      "\u001b[0;32m/tmp/ipykernel_67/340073091.py\u001b[0m in \u001b[0;36m<module>\u001b[0;34m\u001b[0m\n\u001b[0;32m----> 1\u001b[0;31m \u001b[0mget_ipython\u001b[0m\u001b[0;34m(\u001b[0m\u001b[0;34m)\u001b[0m\u001b[0;34m.\u001b[0m\u001b[0mrun_cell_magic\u001b[0m\u001b[0;34m(\u001b[0m\u001b[0;34m'sql'\u001b[0m\u001b[0;34m,\u001b[0m \u001b[0;34m''\u001b[0m\u001b[0;34m,\u001b[0m \u001b[0;34m\"INSERT INTO spacex(Date,Time_UTC,Booster_Version,Launch_Site,Payload,PAYLOAD_MASS_KG_,Orbit,Customer,Mission_Outcome,Landing_Outcome) VALUES ('2010-06-04','18:45:00','F9 v1.0  B0003','CCAFS LC-40','Dragon Spacecraft Qualification Unit',0,'LEO','SpaceX','Success','Failure (parachute)');\\nINSERT INTO spacex(Date,Time_UTC,Booster_Version,Launch_Site,Payload,PAYLOAD_MASS_KG_,Orbit,Customer,Mission_Outcome,Landing_Outcome) VALUES ('2010-12-08','15:43:00','F9 v1.0  B0004','CCAFS LC-40','Dragon demo flight C1, two CubeSats, barrel of Brouere cheese',0,'LEO (ISS)','NASA (COTS) NRO','Success','Failure (parachute)');\\nINSERT INTO spacex(Date,Time_UTC,Booster_Version,Launch_Site,Payload,PAYLOAD_MASS_KG_,Orbit,Customer,Mission_Outcome,Landing_Outcome) VALUES ('2012-05-22','7:44:00','F9 v1.0  B0005','CCAFS LC-40','Dragon demo flight C2',525,'LEO (ISS)','NASA (COTS)','Success','No attempt');\\nINSERT INTO spacex(Date,Time_UTC,Booster_Version,Launch_Site,Payload,PAYLOAD_MASS_KG_,Orbit,Customer,Mission_Outcome,Landing_Outcome) VALUES ('2012-10-08','0:35:00','F9 v1.0  B0006','CCAFS LC-40','SpaceX CRS-1',500,'LEO (ISS)','NASA (CRS)','Success','No attempt');\\nINSERT INTO spacex(Date,Time_UTC,Booster_Version,Launch_Site,Payload,PAYLOAD_MASS_KG_,Orbit,Customer,Mission_Outcome,Landing_Outcome) VALUES ('2013-03-01','15:10:00','F9 v1.0  B0007','CCAFS LC-40','SpaceX CRS-2',677,'LEO (ISS)','NASA (CRS)','Success','No attempt');\\nINSERT INTO spacex(Date,Time_UTC,Booster_Version,Launch_Site,Payload,PAYLOAD_MASS_KG_,Orbit,Customer,Mission_Outcome,Landing_Outcome) VALUES ('2013-09-29','16:00:00','F9 v1.1  B1003','VAFB SLC-4E','CASSIOPE',500,'Polar LEO','MDA','Success','Uncontrolled (ocean)');\\nINSERT INTO spacex(Date,Time_UTC,Booster_Version,Launch_Site,Payload,PAYLOAD_MASS_KG_,Orbit,Customer,Mission_Outcome,Landing_Outcome) VALUES ('2013-12-03','22:41:00','F9 v1.1','CCAFS LC-40','SES-8',3170,'GTO','SES','Success','No attempt');\\nINSERT INTO spacex(Date,Time_UTC,Booster_Version,Launch_Site,Payload,PAYLOAD_MASS_KG_,Orbit,Customer,Mission_Outcome,Landing_Outcome) VALUES ('2014-01-06','22:06:00','F9 v1.1','CCAFS LC-40','Thaicom 6',3325,'GTO','Thaicom','Success','No attempt');\\nINSERT INTO spacex(Date,Time_UTC,Booster_Version,Launch_Site,Payload,PAYLOAD_MASS_KG_,Orbit,Customer,Mission_Outcome,Landing_Outcome) VALUES ('2014-04-18','19:25:00','F9 v1.1','CCAFS LC-40','SpaceX CRS-3',2296,'LEO (ISS)','NASA (CRS)','Success','Controlled (ocean)');\\nINSERT INTO spacex(Date,Time_UTC,Booster_Version,Launch_Site,Payload,PAYLOAD_MASS_KG_,Orbit,Customer,Mission_Outcome,Landing_Outcome) VALUES ('2014-07-14','15:15:00','F9 v1.1','CCAFS LC-40','OG2 Mission 1  6 Orbcomm-OG2 satellites',1316,'LEO','Orbcomm','Success','Controlled (ocean)');\\nINSERT INTO spacex(Date,Time_UTC,Booster_Version,Launch_Site,Payload,PAYLOAD_MASS_KG_,Orbit,Customer,Mission_Outcome,Landing_Outcome) VALUES ('2014-08-05','8:00:00','F9 v1.1','CCAFS LC-40','AsiaSat 8',4535,'GTO','AsiaSat','Success','No attempt');\\nINSERT INTO spacex(Date,Time_UTC,Booster_Version,Launch_Site,Payload,PAYLOAD_MASS_KG_,Orbit,Customer,Mission_Outcome,Landing_Outcome) VALUES ('2014-09-07','5:00:00','F9 v1.1 B1011','CCAFS LC-40','AsiaSat 6',4428,'GTO','AsiaSat','Success','No attempt');\\nINSERT INTO spacex(Date,Time_UTC,Booster_Version,Launch_Site,Payload,PAYLOAD_MASS_KG_,Orbit,Customer,Mission_Outcome,Landing_Outcome) VALUES ('2014-09-21','5:52:00','F9 v1.1 B1010','CCAFS LC-40','SpaceX CRS-4',2216,'LEO (ISS)','NASA (CRS)','Success','Uncontrolled (ocean)');\\nINSERT INTO spacex(Date,Time_UTC,Booster_Version,Launch_Site,Payload,PAYLOAD_MASS_KG_,Orbit,Customer,Mission_Outcome,Landing_Outcome) VALUES ('2015-01-10','9:47:00','F9 v1.1 B1012','CCAFS LC-40','SpaceX CRS-5',2395,'LEO (ISS)','NASA (CRS)','Success','Failure (drone ship)');\\nINSERT INTO spacex(Date,Time_UTC,Booster_Version,Launch_Site,Payload,PAYLOAD_MASS_KG_,Orbit,Customer,Mission_Outcome,Landing_Outcome) VALUES ('2015-02-11','23:03:00','F9 v1.1 B1013','CCAFS LC-40','DSCOVR',570,'HEO','U.S. Air Force NASA NOAA','Success','Controlled (ocean)');\\nINSERT INTO spacex(Date,Time_UTC,Booster_Version,Launch_Site,Payload,PAYLOAD_MASS_KG_,Orbit,Customer,Mission_Outcome,Landing_Outcome) VALUES ('2015-03-02','3:50:00','F9 v1.1 B1014','CCAFS LC-40','ABS-3A Eutelsat 115 West B',4159,'GTO','ABS Eutelsat','Success','No attempt');\\nINSERT INTO spacex(Date,Time_UTC,Booster_Version,Launch_Site,Payload,PAYLOAD_MASS_KG_,Orbit,Customer,Mission_Outcome,Landing_Outcome) VALUES ('2015-04-14','20:10:00','F9 v1.1 B1015','CCAFS LC-40','SpaceX CRS-6',1898,'LEO (ISS)','NASA (CRS)','Success','Failure (drone ship)');\\nINSERT INTO spacex(Date,Time_UTC,Booster_Version,Launch_Site,Payload,PAYLOAD_MASS_KG_,Orbit,Customer,Mission_Outcome,Landing_Outcome) VALUES ('2015-04-27','23:03:00','F9 v1.1 B1016','CCAFS LC-40','Turkmen 52 / MonacoSAT',4707,'GTO','Turkmenistan National Space Agency','Success','No attempt');\\nINSERT INTO spacex(Date,Time_UTC,Booster_Version,Launch_Site,Payload,PAYLOAD_MASS_KG_,Orbit,Customer,Mission_Outcome,Landing_Outcome) VALUES ('2015-06-28','14:21:00','F9 v1.1 B1018','CCAFS LC-40','SpaceX CRS-7',1952,'LEO (ISS)','NASA (CRS)','Failure (in flight)','Precluded (drone ship)');\\nINSERT INTO spacex(Date,Time_UTC,Booster_Version,Launch_Site,Payload,PAYLOAD_MASS_KG_,Orbit,Customer,Mission_Outcome,Landing_Outcome) VALUES ('2015-12-22','1:29:00','F9 FT B1019','CCAFS LC-40','OG2 Mission 2  11 Orbcomm-OG2 satellites',2034,'LEO','Orbcomm','Success','Success (ground pad)');\\nINSERT INTO spacex(Date,Time_UTC,Booster_Version,Launch_Site,Payload,PAYLOAD_MASS_KG_,Orbit,Customer,Mission_Outcome,Landing_Outcome) VALUES ('2016-01-17','18:42:00','F9 v1.1 B1017','VAFB SLC-4E','Jason-3',553,'LEO','NASA (LSP) NOAA CNES','Success','Failure (drone ship)');\\nINSERT INTO spacex(Date,Time_UTC,Booster_Version,Launch_Site,Payload,PAYLOAD_MASS_KG_,Orbit,Customer,Mission_Outcome,Landing_Outcome) VALUES ('2016-03-04','23:35:00','F9 FT B1020','CCAFS LC-40','SES-9',5271,'GTO','SES','Success','Failure (drone ship)');\\nINSERT INTO spacex(Date,Time_UTC,Booster_Version,Launch_Site,Payload,PAYLOAD_MASS_KG_,Orbit,Customer,Mission_Outcome,Landing_Outcome) VALUES ('2016-04-08','20:43:00','F9 FT B1021.1','CCAFS LC-40','SpaceX CRS-8',3136,'LEO (ISS)','NASA (CRS)','Success','Success (drone ship)');\\nINSERT INTO spacex(Date,Time_UTC,Booster_Version,Launch_Site,Payload,PAYLOAD_MASS_KG_,Orbit,Customer,Mission_Outcome,Landing_Outcome) VALUES ('2016-05-06','5:21:00','F9 FT B1022','CCAFS LC-40','JCSAT-14',4696,'GTO','SKY Perfect JSAT Group','Success','Success (drone ship)');\\nINSERT INTO spacex(Date,Time_UTC,Booster_Version,Launch_Site,Payload,PAYLOAD_MASS_KG_,Orbit,Customer,Mission_Outcome,Landing_Outcome) VALUES ('2016-05-27','21:39:00','F9 FT B1023.1','CCAFS LC-40','Thaicom 8',3100,'GTO','Thaicom','Success','Success (drone ship)');\\nINSERT INTO spacex(Date,Time_UTC,Booster_Version,Launch_Site,Payload,PAYLOAD_MASS_KG_,Orbit,Customer,Mission_Outcome,Landing_Outcome) VALUES ('2016-06-15','14:29:00','F9 FT B1024','CCAFS LC-40','ABS-2A Eutelsat 117 West B',3600,'GTO','ABS Eutelsat','Success','Failure (drone ship)');\\nINSERT INTO spacex(Date,Time_UTC,Booster_Version,Launch_Site,Payload,PAYLOAD_MASS_KG_,Orbit,Customer,Mission_Outcome,Landing_Outcome) VALUES ('2016-07-18','4:45:00','F9 FT B1025.1','CCAFS LC-40','SpaceX CRS-9',2257,'LEO (ISS)','NASA (CRS)','Success','Success (ground pad)');\\nINSERT INTO spacex(Date,Time_UTC,Booster_Version,Launch_Site,Payload,PAYLOAD_MASS_KG_,Orbit,Customer,Mission_Outcome,Landing_Outcome) VALUES ('2016-08-14','5:26:00','F9 FT B1026','CCAFS LC-40','JCSAT-16',4600,'GTO','SKY Perfect JSAT Group','Success','Success (drone ship)');\\nINSERT INTO spacex(Date,Time_UTC,Booster_Version,Launch_Site,Payload,PAYLOAD_MASS_KG_,Orbit,Customer,Mission_Outcome,Landing_Outcome) VALUES ('2017-01-14','17:54:00','F9 FT B1029.1','VAFB SLC-4E','Iridium NEXT 1',9600,'Polar LEO','Iridium Communications','Success','Success (drone ship)');\\nINSERT INTO spacex(Date,Time_UTC,Booster_Version,Launch_Site,Payload,PAYLOAD_MASS_KG_,Orbit,Customer,Mission_Outcome,Landing_Outcome) VALUES ('2017-02-19','14:39:00','F9 FT B1031.1','KSC LC-39A','SpaceX CRS-10',2490,'LEO (ISS)','NASA (CRS)','Success','Success (ground pad)');\\nINSERT INTO spacex(Date,Time_UTC,Booster_Version,Launch_Site,Payload,PAYLOAD_MASS_KG_,Orbit,Customer,Mission_Outcome,Landing_Outcome) VALUES ('2017-03-16','6:00:00','F9 FT B1030','KSC LC-39A','EchoStar 23',5600,'GTO','EchoStar','Success','No attempt');\\nINSERT INTO spacex(Date,Time_UTC,Booster_Version,Launch_Site,Payload,PAYLOAD_MASS_KG_,Orbit,Customer,Mission_Outcome,Landing_Outcome) VALUES ('2017-03-30','22:27:00','F9 FT  B1021.2','KSC LC-39A','SES-10',5300,'GTO','SES','Success','Success (drone ship)');\\nINSERT INTO spacex(Date,Time_UTC,Booster_Version,Launch_Site,Payload,PAYLOAD_MASS_KG_,Orbit,Customer,Mission_Outcome,Landing_Outcome) VALUES ('2017-05-01','11:15:00','F9 FT B1032.1','KSC LC-39A','NROL-76',5300,'LEO','NRO','Success','Success (ground pad)');\\nINSERT INTO spacex(Date,Time_UTC,Booster_Version,Launch_Site,Payload,PAYLOAD_MASS_KG_,Orbit,Customer,Mission_Outcome,Landing_Outcome) VALUES ('2017-05-15','23:21:00','F9 FT B1034','KSC LC-39A','Inmarsat-5 F4',6070,'GTO','Inmarsat','Success','No attempt');\\nINSERT INTO spacex(Date,Time_UTC,Booster_Version,Launch_Site,Payload,PAYLOAD_MASS_KG_,Orbit,Customer,Mission_Outcome,Landing_Outcome) VALUES ('2017-06-03','21:07:00','F9 FT B1035.1','KSC LC-39A','SpaceX CRS-11',2708,'LEO (ISS)','NASA (CRS)','Success','Success (ground pad)');\\nINSERT INTO spacex(Date,Time_UTC,Booster_Version,Launch_Site,Payload,PAYLOAD_MASS_KG_,Orbit,Customer,Mission_Outcome,Landing_Outcome) VALUES ('2017-06-23','19:10:00','F9 FT  B1029.2','KSC LC-39A','BulgariaSat-1',3669,'GTO','Bulsatcom','Success','Success (drone ship)');\\nINSERT INTO spacex(Date,Time_UTC,Booster_Version,Launch_Site,Payload,PAYLOAD_MASS_KG_,Orbit,Customer,Mission_Outcome,Landing_Outcome) VALUES ('2017-06-25','20:25:00','F9 FT B1036.1','VAFB SLC-4E','Iridium NEXT 2',9600,'LEO','Iridium Communications','Success','Success (drone ship)');\\nINSERT INTO spacex(Date,Time_UTC,Booster_Version,Launch_Site,Payload,PAYLOAD_MASS_KG_,Orbit,Customer,Mission_Outcome,Landing_Outcome) VALUES ('2017-07-05','23:38:00','F9 FT B1037','KSC LC-39A','Intelsat 35e',6761,'GTO','Intelsat','Success','No attempt');\\nINSERT INTO spacex(Date,Time_UTC,Booster_Version,Launch_Site,Payload,PAYLOAD_MASS_KG_,Orbit,Customer,Mission_Outcome,Landing_Outcome) VALUES ('2017-08-14','16:31:00','F9 B4 B1039.1','KSC LC-39A','SpaceX CRS-12',3310,'LEO (ISS)','NASA (CRS)','Success','Success (ground pad)');\\nINSERT INTO spacex(Date,Time_UTC,Booster_Version,Launch_Site,Payload,PAYLOAD_MASS_KG_,Orbit,Customer,Mission_Outcome,Landing_Outcome) VALUES ('2017-08-24','18:51:00','F9 FT B1038.1','VAFB SLC-4E','Formosat-5',475,'SSO','NSPO','Success','Success (drone ship)');\\nINSERT INTO spacex(Date,Time_UTC,Booster_Version,Launch_Site,Payload,PAYLOAD_MASS_KG_,Orbit,Customer,Mission_Outcome,Landing_Outcome) VALUES ('2017-09-07','14:00:00','F9 B4 B1040.1','KSC LC-39A','Boeing X-37B OTV-5',4990,'LEO','U.S. Air Force','Success','Success (ground pad)');\\nINSERT INTO spacex(Date,Time_UTC,Booster_Version,Launch_Site,Payload,PAYLOAD_MASS_KG_,Orbit,Customer,Mission_Outcome,Landing_Outcome) VALUES ('2017-10-09','12:37:00','F9 B4 B1041.1','VAFB SLC-4E','Iridium NEXT 3',9600,'Polar LEO','Iridium Communications','Success','Success (drone ship)');\\nINSERT INTO spacex(Date,Time_UTC,Booster_Version,Launch_Site,Payload,PAYLOAD_MASS_KG_,Orbit,Customer,Mission_Outcome,Landing_Outcome) VALUES ('2017-10-11','22:53:00','F9 FT  B1031.2','KSC LC-39A','SES-11 / EchoStar 105',5200,'GTO','SES EchoStar','Success','Success (drone ship)');\\nINSERT INTO spacex(Date,Time_UTC,Booster_Version,Launch_Site,Payload,PAYLOAD_MASS_KG_,Orbit,Customer,Mission_Outcome,Landing_Outcome) VALUES ('2017-10-30','19:34:00','F9 B4 B1042.1','KSC LC-39A','Koreasat 5A',3500,'GTO','KT Corporation','Success','Success (drone ship)');\\nINSERT INTO spacex(Date,Time_UTC,Booster_Version,Launch_Site,Payload,PAYLOAD_MASS_KG_,Orbit,Customer,Mission_Outcome,Landing_Outcome) VALUES ('2017-12-15','15:36:00','F9 FT  B1035.2','CCAFS SLC-40','SpaceX CRS-13',2205,'LEO (ISS)','NASA (CRS)','Success','Success (ground pad)');\\nINSERT INTO spacex(Date,Time_UTC,Booster_Version,Launch_Site,Payload,PAYLOAD_MASS_KG_,Orbit,Customer,Mission_Outcome,Landing_Outcome) VALUES ('2017-12-23','1:27:00','F9 FT  B1036.2','VAFB SLC-4E','Iridium NEXT 4',9600,'Polar LEO','Iridium Communications','Success','Controlled (ocean)');\\nINSERT INTO spacex(Date,Time_UTC,Booster_Version,Launch_Site,Payload,PAYLOAD_MASS_KG_,Orbit,Customer,Mission_Outcome,Landing_Outcome) VALUES ('2018-01-08','1:00:00','F9 B4 B1043.1','CCAFS SLC-40','Zuma',5000,'LEO','Northrop Grumman','Success (payload status unclear)','Success (ground pad)');\\nINSERT INTO spacex(Date,Time_UTC,Booster_Version,Launch_Site,Payload,PAYLOAD_MASS_KG_,Orbit,Customer,Mission_Outcome,Landing_Outcome) VALUES ('2018-01-31','21:25:00','F9 FT  B1032.2','CCAFS SLC-40','GovSat-1 / SES-16',4230,'GTO','SES','Success','Controlled (ocean)');\\nINSERT INTO spacex(Date,Time_UTC,Booster_Version,Launch_Site,Payload,PAYLOAD_MASS_KG_,Orbit,Customer,Mission_Outcome,Landing_Outcome) VALUES ('2018-02-22','14:17:00','F9 FT  B1038.2','VAFB SLC-4E','Paz  Tintin A & B',2150,'SSO','Hisdesat exactEarth SpaceX','Success','No attempt');\\nINSERT INTO spacex(Date,Time_UTC,Booster_Version,Launch_Site,Payload,PAYLOAD_MASS_KG_,Orbit,Customer,Mission_Outcome,Landing_Outcome) VALUES ('2018-03-06','5:33:00','F9 B4 B1044','CCAFS SLC-40','Hispasat 30W-6  PODSat',6092,'GTO','Hispasat  NovaWurks','Success','No attempt');\\nINSERT INTO spacex(Date,Time_UTC,Booster_Version,Launch_Site,Payload,PAYLOAD_MASS_KG_,Orbit,Customer,Mission_Outcome,Landing_Outcome) VALUES ('2018-03-30','14:14:00','F9 B4  B1041.2','VAFB SLC-4E','Iridium NEXT 5',9600,'Polar LEO','Iridium Communications','Success','No attempt');\\nINSERT INTO spacex(Date,Time_UTC,Booster_Version,Launch_Site,Payload,PAYLOAD_MASS_KG_,Orbit,Customer,Mission_Outcome,Landing_Outcome) VALUES ('2018-04-02','20:30:00','F9 B4  B1039.2','CCAFS SLC-40','SpaceX CRS-14',2647,'LEO (ISS)','NASA (CRS)','Success','No attempt');\\nINSERT INTO spacex(Date,Time_UTC,Booster_Version,Launch_Site,Payload,PAYLOAD_MASS_KG_,Orbit,Customer,Mission_Outcome,Landing_Outcome) VALUES ('2018-04-18','22:51:00','F9 B4 B1045.1','CCAFS SLC-40','Transiting Exoplanet Survey Satellite (TESS)',362,'HEO','NASA (LSP)','Success','Success (drone ship)');\\nINSERT INTO spacex(Date,Time_UTC,Booster_Version,Launch_Site,Payload,PAYLOAD_MASS_KG_,Orbit,Customer,Mission_Outcome,Landing_Outcome) VALUES ('2018-05-11','20:14:00','F9 B5  B1046.1','KSC LC-39A','Bangabandhu-1',3600,'GTO','Thales-Alenia/BTRC','Success','Success (drone ship)');\\nINSERT INTO spacex(Date,Time_UTC,Booster_Version,Launch_Site,Payload,PAYLOAD_MASS_KG_,Orbit,Customer,Mission_Outcome,Landing_Outcome) VALUES ('2018-05-22','19:47:58','F9 B4  B1043.2','VAFB SLC-4E','Iridium NEXT 6   GRACE-FO 1, 2',6460,'Polar LEO','Iridium Communications GFZ ‚ NASA','Success','No attempt');\\nINSERT INTO spacex(Date,Time_UTC,Booster_Version,Launch_Site,Payload,PAYLOAD_MASS_KG_,Orbit,Customer,Mission_Outcome,Landing_Outcome) VALUES ('2018-06-04','4:45:00','F9 B4  B1040.2','CCAFS SLC-40','SES-12',5384,'GTO','SES','Success','No attempt');\\nINSERT INTO spacex(Date,Time_UTC,Booster_Version,Launch_Site,Payload,PAYLOAD_MASS_KG_,Orbit,Customer,Mission_Outcome,Landing_Outcome) VALUES ('2018-06-29','9:42:00','F9 B4 B1045.2','CCAFS SLC-40','SpaceX CRS-15',2697,'LEO (ISS)','NASA (CRS)','Success','No attempt');\\nINSERT INTO spacex(Date,Time_UTC,Booster_Version,Launch_Site,Payload,PAYLOAD_MASS_KG_,Orbit,Customer,Mission_Outcome,Landing_Outcome) VALUES ('2018-07-22','5:50:00','F9 B5B1047.1','CCAFS SLC-40','Telstar 19V',7075,'GTO','Telesat','Success','Success');\\nINSERT INTO spacex(Date,Time_UTC,Booster_Version,Launch_Site,Payload,PAYLOAD_MASS_KG_,Orbit,Customer,Mission_Outcome,Landing_Outcome) VALUES ('2018-07-25','11:39:00','F9 B5B1048.1','VAFB SLC-4E','Iridium NEXT-7',9600,'Polar LEO','Iridium Communications','Success','Success');\\nINSERT INTO spacex(Date,Time_UTC,Booster_Version,Launch_Site,Payload,PAYLOAD_MASS_KG_,Orbit,Customer,Mission_Outcome,Landing_Outcome) VALUES ('2018-08-07','5:18:00','F9 B5 B1046.2','CCAFS SLC-40','Merah Putih',5800,'GTO','Telkom Indonesia','Success','Success');\\nINSERT INTO spacex(Date,Time_UTC,Booster_Version,Launch_Site,Payload,PAYLOAD_MASS_KG_,Orbit,Customer,Mission_Outcome,Landing_Outcome) VALUES ('2018-09-10','4:45:00','F9 B5B1049.1','CCAFS SLC-40','Telstar 18V / Apstar-5C',7060,'GTO','Telesat','Success','Success');\\nINSERT INTO spacex(Date,Time_UTC,Booster_Version,Launch_Site,Payload,PAYLOAD_MASS_KG_,Orbit,Customer,Mission_Outcome,Landing_Outcome) VALUES ('2018-10-08','2:22:00','F9 B5 B1048.2','VAFB SLC-4E','SAOCOM 1A',3000,'SSO','CONAE','Success','Success');\\nINSERT INTO spacex(Date,Time_UTC,Booster_Version,Launch_Site,Payload,PAYLOAD_MASS_KG_,Orbit,Customer,Mission_Outcome,Landing_Outcome) VALUES ('2018-11-15','20:46:00','F9 B5 B1047.2','KSC LC-39A','Es hail 2',5300,'GTO','Es hailSat','Success','Success');\\nINSERT INTO spacex(Date,Time_UTC,Booster_Version,Launch_Site,Payload,PAYLOAD_MASS_KG_,Orbit,Customer,Mission_Outcome,Landing_Outcome) VALUES ('2018-12-03','18:34:05','F9 B5 B1046.3','VAFB SLC-4E','SSO-A',4000,'SSO','Spaceflight Industries','Success','Success');\\nINSERT INTO spacex(Date,Time_UTC,Booster_Version,Launch_Site,Payload,PAYLOAD_MASS_KG_,Orbit,Customer,Mission_Outcome,Landing_Outcome) VALUES ('2018-12-05','18:16:00','F9 B5B1050','CCAFS SLC-40','SpaceX CRS-16',2500,'LEO (ISS)','NASA (CRS)','Success','Failure');\\nINSERT INTO spacex(Date,Time_UTC,Booster_Version,Launch_Site,Payload,PAYLOAD_MASS_KG_,Orbit,Customer,Mission_Outcome,Landing_Outcome) VALUES ('2018-12-23','13:51:00','F9 B5B1054','CCAFS SLC-40','GPS III-01',4400,'MEO','USAF','Success','No attempt');\\nINSERT INTO spacex(Date,Time_UTC,Booster_Version,Launch_Site,Payload,PAYLOAD_MASS_KG_,Orbit,Customer,Mission_Outcome,Landing_Outcome) VALUES ('2019-01-11','15:31:00','F9 B5 B1049.2','VAFB SLC-4E','Iridium NEXT-8',9600,'Polar LEO','Iridium Communications','Success','Success');\\nINSERT INTO spacex(Date,Time_UTC,Booster_Version,Launch_Site,Payload,PAYLOAD_MASS_KG_,Orbit,Customer,Mission_Outcome,Landing_Outcome) VALUES ('2019-02-22','1:45:00','F9 B5 B1048.3','CCAFS SLC-40','Nusantara Satu, Beresheet Moon lander, S5',4850,'GTO','PSN, SpaceIL / IAI','Success','Success');\\nINSERT INTO spacex(Date,Time_UTC,Booster_Version,Launch_Site,Payload,PAYLOAD_MASS_KG_,Orbit,Customer,Mission_Outcome,Landing_Outcome) VALUES ('2019-03-02','7:49:00','F9 B5B1051.1','KSC LC-39A','Crew Dragon Demo-1, SpaceX CRS-17',12055,'LEO (ISS)','NASA (CCD)','Success','Success');\\nINSERT INTO spacex(Date,Time_UTC,Booster_Version,Launch_Site,Payload,PAYLOAD_MASS_KG_,Orbit,Customer,Mission_Outcome,Landing_Outcome) VALUES ('2019-05-04','6:48:00','F9 B5B1056.1','CCAFS SLC-40','SpaceX CRS-17, Starlink v0.9',2495,'LEO (ISS)','NASA (CRS)','Success','Success');\\nINSERT INTO spacex(Date,Time_UTC,Booster_Version,Launch_Site,Payload,PAYLOAD_MASS_KG_,Orbit,Customer,Mission_Outcome,Landing_Outcome) VALUES ('2019-05-24','2:30:00','F9 B5 B1049.3','CCAFS SLC-40','Starlink v0.9, RADARSAT Constellation',13620,'LEO','SpaceX','Success','Success');\\nINSERT INTO spacex(Date,Time_UTC,Booster_Version,Launch_Site,Payload,PAYLOAD_MASS_KG_,Orbit,Customer,Mission_Outcome,Landing_Outcome) VALUES ('2019-06-12','14:17:00','F9 B5 B1051.2','VAFB SLC-4E','RADARSAT Constellation, SpaceX CRS-18',4200,'SSO','Canadian Space Agency (CSA)','Success','Success');\\nINSERT INTO spacex(Date,Time_UTC,Booster_Version,Launch_Site,Payload,PAYLOAD_MASS_KG_,Orbit,Customer,Mission_Outcome,Landing_Outcome) VALUES ('2019-07-25','22:01:00','F9 B5 B1056.2','CCAFS SLC-40','SpaceX CRS-18, AMOS-17',2268,'LEO (ISS)','NASA (CRS)','Success','Success');\\nINSERT INTO spacex(Date,Time_UTC,Booster_Version,Launch_Site,Payload,PAYLOAD_MASS_KG_,Orbit,Customer,Mission_Outcome,Landing_Outcome) VALUES ('2019-08-06','23:23:00','F9 B5 B1047.3','CCAFS SLC-40','AMOS-17, Starlink 1 v1.0',6500,'GTO','Spacecom','Success','No attempt');\\nINSERT INTO spacex(Date,Time_UTC,Booster_Version,Launch_Site,Payload,PAYLOAD_MASS_KG_,Orbit,Customer,Mission_Outcome,Landing_Outcome) VALUES ('2019-11-11','14:56:00','F9 B5 B1048.4','CCAFS SLC-40','Starlink 1 v1.0, SpaceX CRS-19',15600,'LEO','SpaceX','Success','Success');\\nINSERT INTO spacex(Date,Time_UTC,Booster_Version,Launch_Site,Payload,PAYLOAD_MASS_KG_,Orbit,Customer,Mission_Outcome,Landing_Outcome) VALUES ('2019-12-05','17:29:00','F9 B5B1059.1','CCAFS SLC-40','SpaceX CRS-19, JCSat-18 / Kacific 1',2617,'LEO (ISS)','NASA (CRS), Kacific 1','Success','Success');\\nINSERT INTO spacex(Date,Time_UTC,Booster_Version,Launch_Site,Payload,PAYLOAD_MASS_KG_,Orbit,Customer,Mission_Outcome,Landing_Outcome) VALUES ('2019-12-17','0:10:00','F9 B5 B1056.3','CCAFS SLC-40','JCSat-18 / Kacific 1, Starlink 2 v1.0',6956,'GTO','Sky Perfect JSAT, Kacific 1','Success','Success');\\nINSERT INTO spacex(Date,Time_UTC,Booster_Version,Launch_Site,Payload,PAYLOAD_MASS_KG_,Orbit,Customer,Mission_Outcome,Landing_Outcome) VALUES ('2020-01-07','2:33:00','F9 B5 B1049.4','CCAFS SLC-40','Starlink 2 v1.0, Crew Dragon in-flight abort test',15600,'LEO','SpaceX','Success','Success');\\nINSERT INTO spacex(Date,Time_UTC,Booster_Version,Launch_Site,Payload,PAYLOAD_MASS_KG_,Orbit,Customer,Mission_Outcome,Landing_Outcome) VALUES ('2020-01-19','15:30:00','F9 B5 B1046.4','KSC LC-39A','Crew Dragon in-flight abort test, Starlink 3 v1.0',12050,'Sub-orbital','NASA (CTS)','Success','No attempt');\\nINSERT INTO spacex(Date,Time_UTC,Booster_Version,Launch_Site,Payload,PAYLOAD_MASS_KG_,Orbit,Customer,Mission_Outcome,Landing_Outcome) VALUES ('2020-01-29','14:07:00','F9 B5 B1051.3','CCAFS SLC-40','Starlink 3 v1.0, Starlink 4 v1.0',15600,'LEO','SpaceX','Success','Success');\\nINSERT INTO spacex(Date,Time_UTC,Booster_Version,Launch_Site,Payload,PAYLOAD_MASS_KG_,Orbit,Customer,Mission_Outcome,Landing_Outcome) VALUES ('2020-02-17','15:05:00','F9 B5 B1056.4','CCAFS SLC-40','Starlink 4 v1.0, SpaceX CRS-20',15600,'LEO','SpaceX','Success','Failure');\\nINSERT INTO spacex(Date,Time_UTC,Booster_Version,Launch_Site,Payload,PAYLOAD_MASS_KG_,Orbit,Customer,Mission_Outcome,Landing_Outcome) VALUES ('2020-03-07','4:50:00','F9 B5 B1059.2','CCAFS SLC-40','SpaceX CRS-20, Starlink 5 v1.0',1977,'LEO (ISS)','NASA (CRS)','Success','Success');\\nINSERT INTO spacex(Date,Time_UTC,Booster_Version,Launch_Site,Payload,PAYLOAD_MASS_KG_,Orbit,Customer,Mission_Outcome,Landing_Outcome) VALUES ('2020-03-18','12:16:00','F9 B5 B1048.5','KSC LC-39A','Starlink 5 v1.0, Starlink 6 v1.0',15600,'LEO','SpaceX','Success','Failure');\\nINSERT INTO spacex(Date,Time_UTC,Booster_Version,Launch_Site,Payload,PAYLOAD_MASS_KG_,Orbit,Customer,Mission_Outcome,Landing_Outcome) VALUES ('2020-04-22','19:30:00','F9 B5 B1051.4','KSC LC-39A','Starlink 6 v1.0, Crew Dragon Demo-2',15600,'LEO','SpaceX','Success','Success');\\nINSERT INTO spacex(Date,Time_UTC,Booster_Version,Launch_Site,Payload,PAYLOAD_MASS_KG_,Orbit,Customer,Mission_Outcome,Landing_Outcome) VALUES ('2020-05-30','19:22:00','F9 B5B1058.1','KSC LC-39A','Crew Dragon Demo-2, Starlink 7 v1.0',12530,'LEO (ISS)','NASA (CCDev)','Success','Success');\\nINSERT INTO spacex(Date,Time_UTC,Booster_Version,Launch_Site,Payload,PAYLOAD_MASS_KG_,Orbit,Customer,Mission_Outcome,Landing_Outcome) VALUES ('2020-06-04','1:25:00','F9 B5 B1049.5','CCAFS SLC-40','Starlink 7 v1.0, Starlink 8 v1.0',15600,'LEO','SpaceX, Planet Labs','Success','Success');\\nINSERT INTO spacex(Date,Time_UTC,Booster_Version,Launch_Site,Payload,PAYLOAD_MASS_KG_,Orbit,Customer,Mission_Outcome,Landing_Outcome) VALUES ('2020-06-13','9:21:00','F9 B5 B1059.3','CCAFS SLC-40','Starlink 8 v1.0, SkySats-16, -17, -18, GPS III-03',15410,'LEO','SpaceX, Planet Labs','Success','Success');\\nINSERT INTO spacex(Date,Time_UTC,Booster_Version,Launch_Site,Payload,PAYLOAD_MASS_KG_,Orbit,Customer,Mission_Outcome,Landing_Outcome) VALUES ('2020-06-30','20:10:46','F9 B5B1060.1','CCAFS SLC-40','GPS III-03, ANASIS-II',4311,'MEO','U.S. Space Force','Success','Success');\\nINSERT INTO spacex(Date,Time_UTC,Booster_Version,Launch_Site,Payload,PAYLOAD_MASS_KG_,Orbit,Customer,Mission_Outcome,Landing_Outcome) VALUES ('2020-07-20','21:30:00','F9 B5 B1058.2','CCAFS SLC-40','ANASIS-II, Starlink 9 v1.0',5500,'GTO','Republic of Korea Army, Spaceflight Industries (BlackSky)','Success','Success');\\nINSERT INTO spacex(Date,Time_UTC,Booster_Version,Launch_Site,Payload,PAYLOAD_MASS_KG_,Orbit,Customer,Mission_Outcome,Landing_Outcome) VALUES ('2020-08-07','5:12:00','F9 B5 B1051.5','KSC LC-39A','Starlink 9 v1.0, SXRS-1, Starlink 10 v1.0',14932,'LEO','SpaceX, Spaceflight Industries (BlackSky), Planet Labs','Success','Success');\\nINSERT INTO spacex(Date,Time_UTC,Booster_Version,Launch_Site,Payload,PAYLOAD_MASS_KG_,Orbit,Customer,Mission_Outcome,Landing_Outcome) VALUES ('2020-08-18','14:31:00','F9 B5 B1049.6','CCAFS SLC-40','Starlink 10 v1.0, SkySat-19, -20, -21, SAOCOM 1B',15440,'LEO','SpaceX, Planet Labs, PlanetIQ','Success','Success');\\nINSERT INTO spacex(Date,Time_UTC,Booster_Version,Launch_Site,Payload,PAYLOAD_MASS_KG_,Orbit,Customer,Mission_Outcome,Landing_Outcome) VALUES ('2020-08-30','23:18:00','F9 B5 B1059.4','CCAFS SLC-40','SAOCOM 1B, GNOMES 1, Tyvak-0172',3130,'SSO','CONAE, PlanetIQ, SpaceX','Success','Success');\\nINSERT INTO spacex(Date,Time_UTC,Booster_Version,Launch_Site,Payload,PAYLOAD_MASS_KG_,Orbit,Customer,Mission_Outcome,Landing_Outcome) VALUES ('2020-09-03','12:46:14','F9 B5 B1060.2','KSC LC-39A','Starlink 11 v1.0, Starlink 12 v1.0',15600,'LEO','SpaceX','Success','Success');\\nINSERT INTO spacex(Date,Time_UTC,Booster_Version,Launch_Site,Payload,PAYLOAD_MASS_KG_,Orbit,Customer,Mission_Outcome,Landing_Outcome) VALUES ('2020-10-06','11:29:34','F9 B5 B1058.3','KSC LC-39A','Starlink 12 v1.0, Starlink 13 v1.0',15600,'LEO','SpaceX','Success','Success');\\nINSERT INTO spacex(Date,Time_UTC,Booster_Version,Launch_Site,Payload,PAYLOAD_MASS_KG_,Orbit,Customer,Mission_Outcome,Landing_Outcome) VALUES ('2020-10-18','12:25:57','F9 B5 B1051.6','KSC LC-39A','Starlink 13 v1.0, Starlink 14 v1.0',15600,'LEO','SpaceX','Success','Success');\\nINSERT INTO spacex(Date,Time_UTC,Booster_Version,Launch_Site,Payload,PAYLOAD_MASS_KG_,Orbit,Customer,Mission_Outcome,Landing_Outcome) VALUES ('2020-10-24','15:31:34','F9 B5 B1060.3','CCAFS SLC-40','Starlink 14 v1.0, GPS III-04',15600,'LEO','SpaceX','Success','Success');\\nINSERT INTO spacex(Date,Time_UTC,Booster_Version,Launch_Site,Payload,PAYLOAD_MASS_KG_,Orbit,Customer,Mission_Outcome,Landing_Outcome) VALUES ('2020-11-05','23:24:23','F9 B5B1062.1','CCAFS SLC-40','GPS III-04 , Crew-1',4311,'MEO','USSF','Success','Success');\\nINSERT INTO spacex(Date,Time_UTC,Booster_Version,Launch_Site,Payload,PAYLOAD_MASS_KG_,Orbit,Customer,Mission_Outcome,Landing_Outcome) VALUES ('2020-11-16','0:27:00','F9 B5B1061.1','KSC LC-39A','Crew-1, Sentinel-6 Michael Freilich',12500,'LEO (ISS)','NASA (CCP)','Success','Success');\\nINSERT INTO spacex(Date,Time_UTC,Booster_Version,Launch_Site,Payload,PAYLOAD_MASS_KG_,Orbit,Customer,Mission_Outcome,Landing_Outcome) VALUES ('2020-11-21','17:17:08','F9 B5B1063.1','VAFB SLC-4E','Sentinel-6 Michael Freilich, Starlink 15 v1.0',1192,'LEO','NASA / NOAA / ESA / EUMETSAT','Success','Success');\\nINSERT INTO spacex(Date,Time_UTC,Booster_Version,Launch_Site,Payload,PAYLOAD_MASS_KG_,Orbit,Customer,Mission_Outcome,Landing_Outcome) VALUES ('2020-11-25','2:13:00','F9 B5 B1049.7','CCAFS SLC-40','Starlink 15 v1.0, SpaceX CRS-21',15600,'LEO','SpaceX','Success','Success');\\nINSERT INTO spacex(Date,Time_UTC,Booster_Version,Launch_Site,Payload,PAYLOAD_MASS_KG_,Orbit,Customer,Mission_Outcome,Landing_Outcome) VALUES ('2020-12-06','16:17:08','F9 B5 B1058.4','KSC LC-39A','SpaceX CRS-21',2972,'LEO (ISS)','NASA (CRS)','Success','Success');\\n\"\u001b[0m\u001b[0;34m)\u001b[0m\u001b[0;34m\u001b[0m\u001b[0;34m\u001b[0m\u001b[0m\n\u001b[0m",
      "\u001b[0;32m~/conda/envs/python/lib/python3.7/site-packages/IPython/core/interactiveshell.py\u001b[0m in \u001b[0;36mrun_cell_magic\u001b[0;34m(self, magic_name, line, cell)\u001b[0m\n\u001b[1;32m   2470\u001b[0m             \u001b[0;32mwith\u001b[0m \u001b[0mself\u001b[0m\u001b[0;34m.\u001b[0m\u001b[0mbuiltin_trap\u001b[0m\u001b[0;34m:\u001b[0m\u001b[0;34m\u001b[0m\u001b[0;34m\u001b[0m\u001b[0m\n\u001b[1;32m   2471\u001b[0m                 \u001b[0margs\u001b[0m \u001b[0;34m=\u001b[0m \u001b[0;34m(\u001b[0m\u001b[0mmagic_arg_s\u001b[0m\u001b[0;34m,\u001b[0m \u001b[0mcell\u001b[0m\u001b[0;34m)\u001b[0m\u001b[0;34m\u001b[0m\u001b[0;34m\u001b[0m\u001b[0m\n\u001b[0;32m-> 2472\u001b[0;31m                 \u001b[0mresult\u001b[0m \u001b[0;34m=\u001b[0m \u001b[0mfn\u001b[0m\u001b[0;34m(\u001b[0m\u001b[0;34m*\u001b[0m\u001b[0margs\u001b[0m\u001b[0;34m,\u001b[0m \u001b[0;34m**\u001b[0m\u001b[0mkwargs\u001b[0m\u001b[0;34m)\u001b[0m\u001b[0;34m\u001b[0m\u001b[0;34m\u001b[0m\u001b[0m\n\u001b[0m\u001b[1;32m   2473\u001b[0m             \u001b[0;32mreturn\u001b[0m \u001b[0mresult\u001b[0m\u001b[0;34m\u001b[0m\u001b[0;34m\u001b[0m\u001b[0m\n\u001b[1;32m   2474\u001b[0m \u001b[0;34m\u001b[0m\u001b[0m\n",
      "\u001b[0;32m~/conda/envs/python/lib/python3.7/site-packages/decorator.py\u001b[0m in \u001b[0;36mfun\u001b[0;34m(*args, **kw)\u001b[0m\n\u001b[1;32m    230\u001b[0m             \u001b[0;32mif\u001b[0m \u001b[0;32mnot\u001b[0m \u001b[0mkwsyntax\u001b[0m\u001b[0;34m:\u001b[0m\u001b[0;34m\u001b[0m\u001b[0;34m\u001b[0m\u001b[0m\n\u001b[1;32m    231\u001b[0m                 \u001b[0margs\u001b[0m\u001b[0;34m,\u001b[0m \u001b[0mkw\u001b[0m \u001b[0;34m=\u001b[0m \u001b[0mfix\u001b[0m\u001b[0;34m(\u001b[0m\u001b[0margs\u001b[0m\u001b[0;34m,\u001b[0m \u001b[0mkw\u001b[0m\u001b[0;34m,\u001b[0m \u001b[0msig\u001b[0m\u001b[0;34m)\u001b[0m\u001b[0;34m\u001b[0m\u001b[0;34m\u001b[0m\u001b[0m\n\u001b[0;32m--> 232\u001b[0;31m             \u001b[0;32mreturn\u001b[0m \u001b[0mcaller\u001b[0m\u001b[0;34m(\u001b[0m\u001b[0mfunc\u001b[0m\u001b[0;34m,\u001b[0m \u001b[0;34m*\u001b[0m\u001b[0;34m(\u001b[0m\u001b[0mextras\u001b[0m \u001b[0;34m+\u001b[0m \u001b[0margs\u001b[0m\u001b[0;34m)\u001b[0m\u001b[0;34m,\u001b[0m \u001b[0;34m**\u001b[0m\u001b[0mkw\u001b[0m\u001b[0;34m)\u001b[0m\u001b[0;34m\u001b[0m\u001b[0;34m\u001b[0m\u001b[0m\n\u001b[0m\u001b[1;32m    233\u001b[0m     \u001b[0mfun\u001b[0m\u001b[0;34m.\u001b[0m\u001b[0m__name__\u001b[0m \u001b[0;34m=\u001b[0m \u001b[0mfunc\u001b[0m\u001b[0;34m.\u001b[0m\u001b[0m__name__\u001b[0m\u001b[0;34m\u001b[0m\u001b[0;34m\u001b[0m\u001b[0m\n\u001b[1;32m    234\u001b[0m     \u001b[0mfun\u001b[0m\u001b[0;34m.\u001b[0m\u001b[0m__doc__\u001b[0m \u001b[0;34m=\u001b[0m \u001b[0mfunc\u001b[0m\u001b[0;34m.\u001b[0m\u001b[0m__doc__\u001b[0m\u001b[0;34m\u001b[0m\u001b[0;34m\u001b[0m\u001b[0m\n",
      "\u001b[0;32m~/conda/envs/python/lib/python3.7/site-packages/IPython/core/magic.py\u001b[0m in \u001b[0;36m<lambda>\u001b[0;34m(f, *a, **k)\u001b[0m\n\u001b[1;32m    185\u001b[0m     \u001b[0;31m# but it's overkill for just that one bit of state.\u001b[0m\u001b[0;34m\u001b[0m\u001b[0;34m\u001b[0m\u001b[0;34m\u001b[0m\u001b[0m\n\u001b[1;32m    186\u001b[0m     \u001b[0;32mdef\u001b[0m \u001b[0mmagic_deco\u001b[0m\u001b[0;34m(\u001b[0m\u001b[0marg\u001b[0m\u001b[0;34m)\u001b[0m\u001b[0;34m:\u001b[0m\u001b[0;34m\u001b[0m\u001b[0;34m\u001b[0m\u001b[0m\n\u001b[0;32m--> 187\u001b[0;31m         \u001b[0mcall\u001b[0m \u001b[0;34m=\u001b[0m \u001b[0;32mlambda\u001b[0m \u001b[0mf\u001b[0m\u001b[0;34m,\u001b[0m \u001b[0;34m*\u001b[0m\u001b[0ma\u001b[0m\u001b[0;34m,\u001b[0m \u001b[0;34m**\u001b[0m\u001b[0mk\u001b[0m\u001b[0;34m:\u001b[0m \u001b[0mf\u001b[0m\u001b[0;34m(\u001b[0m\u001b[0;34m*\u001b[0m\u001b[0ma\u001b[0m\u001b[0;34m,\u001b[0m \u001b[0;34m**\u001b[0m\u001b[0mk\u001b[0m\u001b[0;34m)\u001b[0m\u001b[0;34m\u001b[0m\u001b[0;34m\u001b[0m\u001b[0m\n\u001b[0m\u001b[1;32m    188\u001b[0m \u001b[0;34m\u001b[0m\u001b[0m\n\u001b[1;32m    189\u001b[0m         \u001b[0;32mif\u001b[0m \u001b[0mcallable\u001b[0m\u001b[0;34m(\u001b[0m\u001b[0marg\u001b[0m\u001b[0;34m)\u001b[0m\u001b[0;34m:\u001b[0m\u001b[0;34m\u001b[0m\u001b[0;34m\u001b[0m\u001b[0m\n",
      "\u001b[0;32m~/conda/envs/python/lib/python3.7/site-packages/decorator.py\u001b[0m in \u001b[0;36mfun\u001b[0;34m(*args, **kw)\u001b[0m\n\u001b[1;32m    230\u001b[0m             \u001b[0;32mif\u001b[0m \u001b[0;32mnot\u001b[0m \u001b[0mkwsyntax\u001b[0m\u001b[0;34m:\u001b[0m\u001b[0;34m\u001b[0m\u001b[0;34m\u001b[0m\u001b[0m\n\u001b[1;32m    231\u001b[0m                 \u001b[0margs\u001b[0m\u001b[0;34m,\u001b[0m \u001b[0mkw\u001b[0m \u001b[0;34m=\u001b[0m \u001b[0mfix\u001b[0m\u001b[0;34m(\u001b[0m\u001b[0margs\u001b[0m\u001b[0;34m,\u001b[0m \u001b[0mkw\u001b[0m\u001b[0;34m,\u001b[0m \u001b[0msig\u001b[0m\u001b[0;34m)\u001b[0m\u001b[0;34m\u001b[0m\u001b[0;34m\u001b[0m\u001b[0m\n\u001b[0;32m--> 232\u001b[0;31m             \u001b[0;32mreturn\u001b[0m \u001b[0mcaller\u001b[0m\u001b[0;34m(\u001b[0m\u001b[0mfunc\u001b[0m\u001b[0;34m,\u001b[0m \u001b[0;34m*\u001b[0m\u001b[0;34m(\u001b[0m\u001b[0mextras\u001b[0m \u001b[0;34m+\u001b[0m \u001b[0margs\u001b[0m\u001b[0;34m)\u001b[0m\u001b[0;34m,\u001b[0m \u001b[0;34m**\u001b[0m\u001b[0mkw\u001b[0m\u001b[0;34m)\u001b[0m\u001b[0;34m\u001b[0m\u001b[0;34m\u001b[0m\u001b[0m\n\u001b[0m\u001b[1;32m    233\u001b[0m     \u001b[0mfun\u001b[0m\u001b[0;34m.\u001b[0m\u001b[0m__name__\u001b[0m \u001b[0;34m=\u001b[0m \u001b[0mfunc\u001b[0m\u001b[0;34m.\u001b[0m\u001b[0m__name__\u001b[0m\u001b[0;34m\u001b[0m\u001b[0;34m\u001b[0m\u001b[0m\n\u001b[1;32m    234\u001b[0m     \u001b[0mfun\u001b[0m\u001b[0;34m.\u001b[0m\u001b[0m__doc__\u001b[0m \u001b[0;34m=\u001b[0m \u001b[0mfunc\u001b[0m\u001b[0;34m.\u001b[0m\u001b[0m__doc__\u001b[0m\u001b[0;34m\u001b[0m\u001b[0;34m\u001b[0m\u001b[0m\n",
      "\u001b[0;32m~/conda/envs/python/lib/python3.7/site-packages/IPython/core/magic.py\u001b[0m in \u001b[0;36m<lambda>\u001b[0;34m(f, *a, **k)\u001b[0m\n\u001b[1;32m    185\u001b[0m     \u001b[0;31m# but it's overkill for just that one bit of state.\u001b[0m\u001b[0;34m\u001b[0m\u001b[0;34m\u001b[0m\u001b[0;34m\u001b[0m\u001b[0m\n\u001b[1;32m    186\u001b[0m     \u001b[0;32mdef\u001b[0m \u001b[0mmagic_deco\u001b[0m\u001b[0;34m(\u001b[0m\u001b[0marg\u001b[0m\u001b[0;34m)\u001b[0m\u001b[0;34m:\u001b[0m\u001b[0;34m\u001b[0m\u001b[0;34m\u001b[0m\u001b[0m\n\u001b[0;32m--> 187\u001b[0;31m         \u001b[0mcall\u001b[0m \u001b[0;34m=\u001b[0m \u001b[0;32mlambda\u001b[0m \u001b[0mf\u001b[0m\u001b[0;34m,\u001b[0m \u001b[0;34m*\u001b[0m\u001b[0ma\u001b[0m\u001b[0;34m,\u001b[0m \u001b[0;34m**\u001b[0m\u001b[0mk\u001b[0m\u001b[0;34m:\u001b[0m \u001b[0mf\u001b[0m\u001b[0;34m(\u001b[0m\u001b[0;34m*\u001b[0m\u001b[0ma\u001b[0m\u001b[0;34m,\u001b[0m \u001b[0;34m**\u001b[0m\u001b[0mk\u001b[0m\u001b[0;34m)\u001b[0m\u001b[0;34m\u001b[0m\u001b[0;34m\u001b[0m\u001b[0m\n\u001b[0m\u001b[1;32m    188\u001b[0m \u001b[0;34m\u001b[0m\u001b[0m\n\u001b[1;32m    189\u001b[0m         \u001b[0;32mif\u001b[0m \u001b[0mcallable\u001b[0m\u001b[0;34m(\u001b[0m\u001b[0marg\u001b[0m\u001b[0;34m)\u001b[0m\u001b[0;34m:\u001b[0m\u001b[0;34m\u001b[0m\u001b[0;34m\u001b[0m\u001b[0m\n",
      "\u001b[0;32m~/conda/envs/python/lib/python3.7/site-packages/sql/magic.py\u001b[0m in \u001b[0;36mexecute\u001b[0;34m(self, line, cell, local_ns)\u001b[0m\n\u001b[1;32m     93\u001b[0m \u001b[0;34m\u001b[0m\u001b[0m\n\u001b[1;32m     94\u001b[0m         \u001b[0;32mtry\u001b[0m\u001b[0;34m:\u001b[0m\u001b[0;34m\u001b[0m\u001b[0;34m\u001b[0m\u001b[0m\n\u001b[0;32m---> 95\u001b[0;31m             \u001b[0mresult\u001b[0m \u001b[0;34m=\u001b[0m \u001b[0msql\u001b[0m\u001b[0;34m.\u001b[0m\u001b[0mrun\u001b[0m\u001b[0;34m.\u001b[0m\u001b[0mrun\u001b[0m\u001b[0;34m(\u001b[0m\u001b[0mconn\u001b[0m\u001b[0;34m,\u001b[0m \u001b[0mparsed\u001b[0m\u001b[0;34m[\u001b[0m\u001b[0;34m'sql'\u001b[0m\u001b[0;34m]\u001b[0m\u001b[0;34m,\u001b[0m \u001b[0mself\u001b[0m\u001b[0;34m,\u001b[0m \u001b[0muser_ns\u001b[0m\u001b[0;34m)\u001b[0m\u001b[0;34m\u001b[0m\u001b[0;34m\u001b[0m\u001b[0m\n\u001b[0m\u001b[1;32m     96\u001b[0m \u001b[0;34m\u001b[0m\u001b[0m\n\u001b[1;32m     97\u001b[0m             \u001b[0;32mif\u001b[0m \u001b[0mresult\u001b[0m \u001b[0;32mis\u001b[0m \u001b[0;32mnot\u001b[0m \u001b[0;32mNone\u001b[0m \u001b[0;32mand\u001b[0m \u001b[0;32mnot\u001b[0m \u001b[0misinstance\u001b[0m\u001b[0;34m(\u001b[0m\u001b[0mresult\u001b[0m\u001b[0;34m,\u001b[0m \u001b[0mstr\u001b[0m\u001b[0;34m)\u001b[0m \u001b[0;32mand\u001b[0m \u001b[0mself\u001b[0m\u001b[0;34m.\u001b[0m\u001b[0mcolumn_local_vars\u001b[0m\u001b[0;34m:\u001b[0m\u001b[0;34m\u001b[0m\u001b[0;34m\u001b[0m\u001b[0m\n",
      "\u001b[0;32m~/conda/envs/python/lib/python3.7/site-packages/sql/run.py\u001b[0m in \u001b[0;36mrun\u001b[0;34m(conn, sql, config, user_namespace)\u001b[0m\n\u001b[1;32m    338\u001b[0m             \u001b[0;32melse\u001b[0m\u001b[0;34m:\u001b[0m\u001b[0;34m\u001b[0m\u001b[0;34m\u001b[0m\u001b[0m\n\u001b[1;32m    339\u001b[0m                 \u001b[0mtxt\u001b[0m \u001b[0;34m=\u001b[0m \u001b[0msqlalchemy\u001b[0m\u001b[0;34m.\u001b[0m\u001b[0msql\u001b[0m\u001b[0;34m.\u001b[0m\u001b[0mtext\u001b[0m\u001b[0;34m(\u001b[0m\u001b[0mstatement\u001b[0m\u001b[0;34m)\u001b[0m\u001b[0;34m\u001b[0m\u001b[0;34m\u001b[0m\u001b[0m\n\u001b[0;32m--> 340\u001b[0;31m                 \u001b[0mresult\u001b[0m \u001b[0;34m=\u001b[0m \u001b[0mconn\u001b[0m\u001b[0;34m.\u001b[0m\u001b[0msession\u001b[0m\u001b[0;34m.\u001b[0m\u001b[0mexecute\u001b[0m\u001b[0;34m(\u001b[0m\u001b[0mtxt\u001b[0m\u001b[0;34m,\u001b[0m \u001b[0muser_namespace\u001b[0m\u001b[0;34m)\u001b[0m\u001b[0;34m\u001b[0m\u001b[0;34m\u001b[0m\u001b[0m\n\u001b[0m\u001b[1;32m    341\u001b[0m             \u001b[0m_commit\u001b[0m\u001b[0;34m(\u001b[0m\u001b[0mconn\u001b[0m\u001b[0;34m=\u001b[0m\u001b[0mconn\u001b[0m\u001b[0;34m,\u001b[0m \u001b[0mconfig\u001b[0m\u001b[0;34m=\u001b[0m\u001b[0mconfig\u001b[0m\u001b[0;34m)\u001b[0m\u001b[0;34m\u001b[0m\u001b[0;34m\u001b[0m\u001b[0m\n\u001b[1;32m    342\u001b[0m             \u001b[0;32mif\u001b[0m \u001b[0mresult\u001b[0m \u001b[0;32mand\u001b[0m \u001b[0mconfig\u001b[0m\u001b[0;34m.\u001b[0m\u001b[0mfeedback\u001b[0m\u001b[0;34m:\u001b[0m\u001b[0;34m\u001b[0m\u001b[0;34m\u001b[0m\u001b[0m\n",
      "\u001b[0;32m~/conda/envs/python/lib/python3.7/site-packages/sqlalchemy/engine/base.py\u001b[0m in \u001b[0;36mexecute\u001b[0;34m(self, object_, *multiparams, **params)\u001b[0m\n\u001b[1;32m    986\u001b[0m             \u001b[0;32mraise\u001b[0m \u001b[0mexc\u001b[0m\u001b[0;34m.\u001b[0m\u001b[0mObjectNotExecutableError\u001b[0m\u001b[0;34m(\u001b[0m\u001b[0mobject_\u001b[0m\u001b[0;34m)\u001b[0m\u001b[0;34m\u001b[0m\u001b[0;34m\u001b[0m\u001b[0m\n\u001b[1;32m    987\u001b[0m         \u001b[0;32melse\u001b[0m\u001b[0;34m:\u001b[0m\u001b[0;34m\u001b[0m\u001b[0;34m\u001b[0m\u001b[0m\n\u001b[0;32m--> 988\u001b[0;31m             \u001b[0;32mreturn\u001b[0m \u001b[0mmeth\u001b[0m\u001b[0;34m(\u001b[0m\u001b[0mself\u001b[0m\u001b[0;34m,\u001b[0m \u001b[0mmultiparams\u001b[0m\u001b[0;34m,\u001b[0m \u001b[0mparams\u001b[0m\u001b[0;34m)\u001b[0m\u001b[0;34m\u001b[0m\u001b[0;34m\u001b[0m\u001b[0m\n\u001b[0m\u001b[1;32m    989\u001b[0m \u001b[0;34m\u001b[0m\u001b[0m\n\u001b[1;32m    990\u001b[0m     \u001b[0;32mdef\u001b[0m \u001b[0m_execute_function\u001b[0m\u001b[0;34m(\u001b[0m\u001b[0mself\u001b[0m\u001b[0;34m,\u001b[0m \u001b[0mfunc\u001b[0m\u001b[0;34m,\u001b[0m \u001b[0mmultiparams\u001b[0m\u001b[0;34m,\u001b[0m \u001b[0mparams\u001b[0m\u001b[0;34m)\u001b[0m\u001b[0;34m:\u001b[0m\u001b[0;34m\u001b[0m\u001b[0;34m\u001b[0m\u001b[0m\n",
      "\u001b[0;32m~/conda/envs/python/lib/python3.7/site-packages/sqlalchemy/sql/elements.py\u001b[0m in \u001b[0;36m_execute_on_connection\u001b[0;34m(self, connection, multiparams, params)\u001b[0m\n\u001b[1;32m    285\u001b[0m     \u001b[0;32mdef\u001b[0m \u001b[0m_execute_on_connection\u001b[0m\u001b[0;34m(\u001b[0m\u001b[0mself\u001b[0m\u001b[0;34m,\u001b[0m \u001b[0mconnection\u001b[0m\u001b[0;34m,\u001b[0m \u001b[0mmultiparams\u001b[0m\u001b[0;34m,\u001b[0m \u001b[0mparams\u001b[0m\u001b[0;34m)\u001b[0m\u001b[0;34m:\u001b[0m\u001b[0;34m\u001b[0m\u001b[0;34m\u001b[0m\u001b[0m\n\u001b[1;32m    286\u001b[0m         \u001b[0;32mif\u001b[0m \u001b[0mself\u001b[0m\u001b[0;34m.\u001b[0m\u001b[0msupports_execution\u001b[0m\u001b[0;34m:\u001b[0m\u001b[0;34m\u001b[0m\u001b[0;34m\u001b[0m\u001b[0m\n\u001b[0;32m--> 287\u001b[0;31m             \u001b[0;32mreturn\u001b[0m \u001b[0mconnection\u001b[0m\u001b[0;34m.\u001b[0m\u001b[0m_execute_clauseelement\u001b[0m\u001b[0;34m(\u001b[0m\u001b[0mself\u001b[0m\u001b[0;34m,\u001b[0m \u001b[0mmultiparams\u001b[0m\u001b[0;34m,\u001b[0m \u001b[0mparams\u001b[0m\u001b[0;34m)\u001b[0m\u001b[0;34m\u001b[0m\u001b[0;34m\u001b[0m\u001b[0m\n\u001b[0m\u001b[1;32m    288\u001b[0m         \u001b[0;32melse\u001b[0m\u001b[0;34m:\u001b[0m\u001b[0;34m\u001b[0m\u001b[0;34m\u001b[0m\u001b[0m\n\u001b[1;32m    289\u001b[0m             \u001b[0;32mraise\u001b[0m \u001b[0mexc\u001b[0m\u001b[0;34m.\u001b[0m\u001b[0mObjectNotExecutableError\u001b[0m\u001b[0;34m(\u001b[0m\u001b[0mself\u001b[0m\u001b[0;34m)\u001b[0m\u001b[0;34m\u001b[0m\u001b[0;34m\u001b[0m\u001b[0m\n",
      "\u001b[0;32m~/conda/envs/python/lib/python3.7/site-packages/sqlalchemy/engine/base.py\u001b[0m in \u001b[0;36m_execute_clauseelement\u001b[0;34m(self, elem, multiparams, params)\u001b[0m\n\u001b[1;32m   1105\u001b[0m             \u001b[0mdistilled_params\u001b[0m\u001b[0;34m,\u001b[0m\u001b[0;34m\u001b[0m\u001b[0;34m\u001b[0m\u001b[0m\n\u001b[1;32m   1106\u001b[0m             \u001b[0mcompiled_sql\u001b[0m\u001b[0;34m,\u001b[0m\u001b[0;34m\u001b[0m\u001b[0;34m\u001b[0m\u001b[0m\n\u001b[0;32m-> 1107\u001b[0;31m             \u001b[0mdistilled_params\u001b[0m\u001b[0;34m,\u001b[0m\u001b[0;34m\u001b[0m\u001b[0;34m\u001b[0m\u001b[0m\n\u001b[0m\u001b[1;32m   1108\u001b[0m         )\n\u001b[1;32m   1109\u001b[0m         \u001b[0;32mif\u001b[0m \u001b[0mself\u001b[0m\u001b[0;34m.\u001b[0m\u001b[0m_has_events\u001b[0m \u001b[0;32mor\u001b[0m \u001b[0mself\u001b[0m\u001b[0;34m.\u001b[0m\u001b[0mengine\u001b[0m\u001b[0;34m.\u001b[0m\u001b[0m_has_events\u001b[0m\u001b[0;34m:\u001b[0m\u001b[0;34m\u001b[0m\u001b[0;34m\u001b[0m\u001b[0m\n",
      "\u001b[0;32m~/conda/envs/python/lib/python3.7/site-packages/sqlalchemy/engine/base.py\u001b[0m in \u001b[0;36m_execute_context\u001b[0;34m(self, dialect, constructor, statement, parameters, *args)\u001b[0m\n\u001b[1;32m   1251\u001b[0m         \u001b[0;32mexcept\u001b[0m \u001b[0mBaseException\u001b[0m \u001b[0;32mas\u001b[0m \u001b[0me\u001b[0m\u001b[0;34m:\u001b[0m\u001b[0;34m\u001b[0m\u001b[0;34m\u001b[0m\u001b[0m\n\u001b[1;32m   1252\u001b[0m             self._handle_dbapi_exception(\n\u001b[0;32m-> 1253\u001b[0;31m                 \u001b[0me\u001b[0m\u001b[0;34m,\u001b[0m \u001b[0mstatement\u001b[0m\u001b[0;34m,\u001b[0m \u001b[0mparameters\u001b[0m\u001b[0;34m,\u001b[0m \u001b[0mcursor\u001b[0m\u001b[0;34m,\u001b[0m \u001b[0mcontext\u001b[0m\u001b[0;34m\u001b[0m\u001b[0;34m\u001b[0m\u001b[0m\n\u001b[0m\u001b[1;32m   1254\u001b[0m             )\n\u001b[1;32m   1255\u001b[0m \u001b[0;34m\u001b[0m\u001b[0m\n",
      "\u001b[0;32m~/conda/envs/python/lib/python3.7/site-packages/sqlalchemy/engine/base.py\u001b[0m in \u001b[0;36m_handle_dbapi_exception\u001b[0;34m(self, e, statement, parameters, cursor, context)\u001b[0m\n\u001b[1;32m   1471\u001b[0m                 \u001b[0mutil\u001b[0m\u001b[0;34m.\u001b[0m\u001b[0mraise_from_cause\u001b[0m\u001b[0;34m(\u001b[0m\u001b[0mnewraise\u001b[0m\u001b[0;34m,\u001b[0m \u001b[0mexc_info\u001b[0m\u001b[0;34m)\u001b[0m\u001b[0;34m\u001b[0m\u001b[0;34m\u001b[0m\u001b[0m\n\u001b[1;32m   1472\u001b[0m             \u001b[0;32melif\u001b[0m \u001b[0mshould_wrap\u001b[0m\u001b[0;34m:\u001b[0m\u001b[0;34m\u001b[0m\u001b[0;34m\u001b[0m\u001b[0m\n\u001b[0;32m-> 1473\u001b[0;31m                 \u001b[0mutil\u001b[0m\u001b[0;34m.\u001b[0m\u001b[0mraise_from_cause\u001b[0m\u001b[0;34m(\u001b[0m\u001b[0msqlalchemy_exception\u001b[0m\u001b[0;34m,\u001b[0m \u001b[0mexc_info\u001b[0m\u001b[0;34m)\u001b[0m\u001b[0;34m\u001b[0m\u001b[0;34m\u001b[0m\u001b[0m\n\u001b[0m\u001b[1;32m   1474\u001b[0m             \u001b[0;32melse\u001b[0m\u001b[0;34m:\u001b[0m\u001b[0;34m\u001b[0m\u001b[0;34m\u001b[0m\u001b[0m\n\u001b[1;32m   1475\u001b[0m                 \u001b[0mutil\u001b[0m\u001b[0;34m.\u001b[0m\u001b[0mreraise\u001b[0m\u001b[0;34m(\u001b[0m\u001b[0;34m*\u001b[0m\u001b[0mexc_info\u001b[0m\u001b[0;34m)\u001b[0m\u001b[0;34m\u001b[0m\u001b[0;34m\u001b[0m\u001b[0m\n",
      "\u001b[0;32m~/conda/envs/python/lib/python3.7/site-packages/sqlalchemy/util/compat.py\u001b[0m in \u001b[0;36mraise_from_cause\u001b[0;34m(exception, exc_info)\u001b[0m\n\u001b[1;32m    396\u001b[0m     \u001b[0mexc_type\u001b[0m\u001b[0;34m,\u001b[0m \u001b[0mexc_value\u001b[0m\u001b[0;34m,\u001b[0m \u001b[0mexc_tb\u001b[0m \u001b[0;34m=\u001b[0m \u001b[0mexc_info\u001b[0m\u001b[0;34m\u001b[0m\u001b[0;34m\u001b[0m\u001b[0m\n\u001b[1;32m    397\u001b[0m     \u001b[0mcause\u001b[0m \u001b[0;34m=\u001b[0m \u001b[0mexc_value\u001b[0m \u001b[0;32mif\u001b[0m \u001b[0mexc_value\u001b[0m \u001b[0;32mis\u001b[0m \u001b[0;32mnot\u001b[0m \u001b[0mexception\u001b[0m \u001b[0;32melse\u001b[0m \u001b[0;32mNone\u001b[0m\u001b[0;34m\u001b[0m\u001b[0;34m\u001b[0m\u001b[0m\n\u001b[0;32m--> 398\u001b[0;31m     \u001b[0mreraise\u001b[0m\u001b[0;34m(\u001b[0m\u001b[0mtype\u001b[0m\u001b[0;34m(\u001b[0m\u001b[0mexception\u001b[0m\u001b[0;34m)\u001b[0m\u001b[0;34m,\u001b[0m \u001b[0mexception\u001b[0m\u001b[0;34m,\u001b[0m \u001b[0mtb\u001b[0m\u001b[0;34m=\u001b[0m\u001b[0mexc_tb\u001b[0m\u001b[0;34m,\u001b[0m \u001b[0mcause\u001b[0m\u001b[0;34m=\u001b[0m\u001b[0mcause\u001b[0m\u001b[0;34m)\u001b[0m\u001b[0;34m\u001b[0m\u001b[0;34m\u001b[0m\u001b[0m\n\u001b[0m\u001b[1;32m    399\u001b[0m \u001b[0;34m\u001b[0m\u001b[0m\n\u001b[1;32m    400\u001b[0m \u001b[0;34m\u001b[0m\u001b[0m\n",
      "\u001b[0;32m~/conda/envs/python/lib/python3.7/site-packages/sqlalchemy/util/compat.py\u001b[0m in \u001b[0;36mreraise\u001b[0;34m(tp, value, tb, cause)\u001b[0m\n\u001b[1;32m    150\u001b[0m             \u001b[0mvalue\u001b[0m\u001b[0;34m.\u001b[0m\u001b[0m__cause__\u001b[0m \u001b[0;34m=\u001b[0m \u001b[0mcause\u001b[0m\u001b[0;34m\u001b[0m\u001b[0;34m\u001b[0m\u001b[0m\n\u001b[1;32m    151\u001b[0m         \u001b[0;32mif\u001b[0m \u001b[0mvalue\u001b[0m\u001b[0;34m.\u001b[0m\u001b[0m__traceback__\u001b[0m \u001b[0;32mis\u001b[0m \u001b[0;32mnot\u001b[0m \u001b[0mtb\u001b[0m\u001b[0;34m:\u001b[0m\u001b[0;34m\u001b[0m\u001b[0;34m\u001b[0m\u001b[0m\n\u001b[0;32m--> 152\u001b[0;31m             \u001b[0;32mraise\u001b[0m \u001b[0mvalue\u001b[0m\u001b[0;34m.\u001b[0m\u001b[0mwith_traceback\u001b[0m\u001b[0;34m(\u001b[0m\u001b[0mtb\u001b[0m\u001b[0;34m)\u001b[0m\u001b[0;34m\u001b[0m\u001b[0;34m\u001b[0m\u001b[0m\n\u001b[0m\u001b[1;32m    153\u001b[0m         \u001b[0;32mraise\u001b[0m \u001b[0mvalue\u001b[0m\u001b[0;34m\u001b[0m\u001b[0;34m\u001b[0m\u001b[0m\n\u001b[1;32m    154\u001b[0m \u001b[0;34m\u001b[0m\u001b[0m\n",
      "\u001b[0;32m~/conda/envs/python/lib/python3.7/site-packages/sqlalchemy/engine/base.py\u001b[0m in \u001b[0;36m_execute_context\u001b[0;34m(self, dialect, constructor, statement, parameters, *args)\u001b[0m\n\u001b[1;32m   1247\u001b[0m                 \u001b[0;32mif\u001b[0m \u001b[0;32mnot\u001b[0m \u001b[0mevt_handled\u001b[0m\u001b[0;34m:\u001b[0m\u001b[0;34m\u001b[0m\u001b[0;34m\u001b[0m\u001b[0m\n\u001b[1;32m   1248\u001b[0m                     self.dialect.do_execute(\n\u001b[0;32m-> 1249\u001b[0;31m                         \u001b[0mcursor\u001b[0m\u001b[0;34m,\u001b[0m \u001b[0mstatement\u001b[0m\u001b[0;34m,\u001b[0m \u001b[0mparameters\u001b[0m\u001b[0;34m,\u001b[0m \u001b[0mcontext\u001b[0m\u001b[0;34m\u001b[0m\u001b[0;34m\u001b[0m\u001b[0m\n\u001b[0m\u001b[1;32m   1250\u001b[0m                     )\n\u001b[1;32m   1251\u001b[0m         \u001b[0;32mexcept\u001b[0m \u001b[0mBaseException\u001b[0m \u001b[0;32mas\u001b[0m \u001b[0me\u001b[0m\u001b[0;34m:\u001b[0m\u001b[0;34m\u001b[0m\u001b[0;34m\u001b[0m\u001b[0m\n",
      "\u001b[0;32m~/conda/envs/python/lib/python3.7/site-packages/sqlalchemy/engine/default.py\u001b[0m in \u001b[0;36mdo_execute\u001b[0;34m(self, cursor, statement, parameters, context)\u001b[0m\n\u001b[1;32m    578\u001b[0m \u001b[0;34m\u001b[0m\u001b[0m\n\u001b[1;32m    579\u001b[0m     \u001b[0;32mdef\u001b[0m \u001b[0mdo_execute\u001b[0m\u001b[0;34m(\u001b[0m\u001b[0mself\u001b[0m\u001b[0;34m,\u001b[0m \u001b[0mcursor\u001b[0m\u001b[0;34m,\u001b[0m \u001b[0mstatement\u001b[0m\u001b[0;34m,\u001b[0m \u001b[0mparameters\u001b[0m\u001b[0;34m,\u001b[0m \u001b[0mcontext\u001b[0m\u001b[0;34m=\u001b[0m\u001b[0;32mNone\u001b[0m\u001b[0;34m)\u001b[0m\u001b[0;34m:\u001b[0m\u001b[0;34m\u001b[0m\u001b[0;34m\u001b[0m\u001b[0m\n\u001b[0;32m--> 580\u001b[0;31m         \u001b[0mcursor\u001b[0m\u001b[0;34m.\u001b[0m\u001b[0mexecute\u001b[0m\u001b[0;34m(\u001b[0m\u001b[0mstatement\u001b[0m\u001b[0;34m,\u001b[0m \u001b[0mparameters\u001b[0m\u001b[0;34m)\u001b[0m\u001b[0;34m\u001b[0m\u001b[0;34m\u001b[0m\u001b[0m\n\u001b[0m\u001b[1;32m    581\u001b[0m \u001b[0;34m\u001b[0m\u001b[0m\n\u001b[1;32m    582\u001b[0m     \u001b[0;32mdef\u001b[0m \u001b[0mdo_execute_no_params\u001b[0m\u001b[0;34m(\u001b[0m\u001b[0mself\u001b[0m\u001b[0;34m,\u001b[0m \u001b[0mcursor\u001b[0m\u001b[0;34m,\u001b[0m \u001b[0mstatement\u001b[0m\u001b[0;34m,\u001b[0m \u001b[0mcontext\u001b[0m\u001b[0;34m=\u001b[0m\u001b[0;32mNone\u001b[0m\u001b[0;34m)\u001b[0m\u001b[0;34m:\u001b[0m\u001b[0;34m\u001b[0m\u001b[0;34m\u001b[0m\u001b[0m\n",
      "\u001b[0;31mIntegrityError\u001b[0m: (sqlite3.IntegrityError) UNIQUE constraint failed: spacex.Date\n[SQL: INSERT INTO spacex(Date,Time_UTC,Booster_Version,Launch_Site,Payload,PAYLOAD_MASS_KG_,Orbit,Customer,Mission_Outcome,Landing_Outcome) VALUES ('2010-06-04','18:45:00','F9 v1.0  B0003','CCAFS LC-40','Dragon Spacecraft Qualification Unit',0,'LEO','SpaceX','Success','Failure (parachute)');]\n(Background on this error at: http://sqlalche.me/e/gkpj)"
     ]
    }
   ],
   "source": [
    "%%sql\n",
    "INSERT INTO spacex(Date,Time_UTC,Booster_Version,Launch_Site,Payload,PAYLOAD_MASS_KG_,Orbit,Customer,Mission_Outcome,Landing_Outcome) VALUES ('2010-06-04','18:45:00','F9 v1.0  B0003','CCAFS LC-40','Dragon Spacecraft Qualification Unit',0,'LEO','SpaceX','Success','Failure (parachute)');\n",
    "INSERT INTO spacex(Date,Time_UTC,Booster_Version,Launch_Site,Payload,PAYLOAD_MASS_KG_,Orbit,Customer,Mission_Outcome,Landing_Outcome) VALUES ('2010-12-08','15:43:00','F9 v1.0  B0004','CCAFS LC-40','Dragon demo flight C1, two CubeSats, barrel of Brouere cheese',0,'LEO (ISS)','NASA (COTS) NRO','Success','Failure (parachute)');\n",
    "INSERT INTO spacex(Date,Time_UTC,Booster_Version,Launch_Site,Payload,PAYLOAD_MASS_KG_,Orbit,Customer,Mission_Outcome,Landing_Outcome) VALUES ('2012-05-22','7:44:00','F9 v1.0  B0005','CCAFS LC-40','Dragon demo flight C2',525,'LEO (ISS)','NASA (COTS)','Success','No attempt');\n",
    "INSERT INTO spacex(Date,Time_UTC,Booster_Version,Launch_Site,Payload,PAYLOAD_MASS_KG_,Orbit,Customer,Mission_Outcome,Landing_Outcome) VALUES ('2012-10-08','0:35:00','F9 v1.0  B0006','CCAFS LC-40','SpaceX CRS-1',500,'LEO (ISS)','NASA (CRS)','Success','No attempt');\n",
    "INSERT INTO spacex(Date,Time_UTC,Booster_Version,Launch_Site,Payload,PAYLOAD_MASS_KG_,Orbit,Customer,Mission_Outcome,Landing_Outcome) VALUES ('2013-03-01','15:10:00','F9 v1.0  B0007','CCAFS LC-40','SpaceX CRS-2',677,'LEO (ISS)','NASA (CRS)','Success','No attempt');\n",
    "INSERT INTO spacex(Date,Time_UTC,Booster_Version,Launch_Site,Payload,PAYLOAD_MASS_KG_,Orbit,Customer,Mission_Outcome,Landing_Outcome) VALUES ('2013-09-29','16:00:00','F9 v1.1  B1003','VAFB SLC-4E','CASSIOPE',500,'Polar LEO','MDA','Success','Uncontrolled (ocean)');\n",
    "INSERT INTO spacex(Date,Time_UTC,Booster_Version,Launch_Site,Payload,PAYLOAD_MASS_KG_,Orbit,Customer,Mission_Outcome,Landing_Outcome) VALUES ('2013-12-03','22:41:00','F9 v1.1','CCAFS LC-40','SES-8',3170,'GTO','SES','Success','No attempt');\n",
    "INSERT INTO spacex(Date,Time_UTC,Booster_Version,Launch_Site,Payload,PAYLOAD_MASS_KG_,Orbit,Customer,Mission_Outcome,Landing_Outcome) VALUES ('2014-01-06','22:06:00','F9 v1.1','CCAFS LC-40','Thaicom 6',3325,'GTO','Thaicom','Success','No attempt');\n",
    "INSERT INTO spacex(Date,Time_UTC,Booster_Version,Launch_Site,Payload,PAYLOAD_MASS_KG_,Orbit,Customer,Mission_Outcome,Landing_Outcome) VALUES ('2014-04-18','19:25:00','F9 v1.1','CCAFS LC-40','SpaceX CRS-3',2296,'LEO (ISS)','NASA (CRS)','Success','Controlled (ocean)');\n",
    "INSERT INTO spacex(Date,Time_UTC,Booster_Version,Launch_Site,Payload,PAYLOAD_MASS_KG_,Orbit,Customer,Mission_Outcome,Landing_Outcome) VALUES ('2014-07-14','15:15:00','F9 v1.1','CCAFS LC-40','OG2 Mission 1  6 Orbcomm-OG2 satellites',1316,'LEO','Orbcomm','Success','Controlled (ocean)');\n",
    "INSERT INTO spacex(Date,Time_UTC,Booster_Version,Launch_Site,Payload,PAYLOAD_MASS_KG_,Orbit,Customer,Mission_Outcome,Landing_Outcome) VALUES ('2014-08-05','8:00:00','F9 v1.1','CCAFS LC-40','AsiaSat 8',4535,'GTO','AsiaSat','Success','No attempt');\n",
    "INSERT INTO spacex(Date,Time_UTC,Booster_Version,Launch_Site,Payload,PAYLOAD_MASS_KG_,Orbit,Customer,Mission_Outcome,Landing_Outcome) VALUES ('2014-09-07','5:00:00','F9 v1.1 B1011','CCAFS LC-40','AsiaSat 6',4428,'GTO','AsiaSat','Success','No attempt');\n",
    "INSERT INTO spacex(Date,Time_UTC,Booster_Version,Launch_Site,Payload,PAYLOAD_MASS_KG_,Orbit,Customer,Mission_Outcome,Landing_Outcome) VALUES ('2014-09-21','5:52:00','F9 v1.1 B1010','CCAFS LC-40','SpaceX CRS-4',2216,'LEO (ISS)','NASA (CRS)','Success','Uncontrolled (ocean)');\n",
    "INSERT INTO spacex(Date,Time_UTC,Booster_Version,Launch_Site,Payload,PAYLOAD_MASS_KG_,Orbit,Customer,Mission_Outcome,Landing_Outcome) VALUES ('2015-01-10','9:47:00','F9 v1.1 B1012','CCAFS LC-40','SpaceX CRS-5',2395,'LEO (ISS)','NASA (CRS)','Success','Failure (drone ship)');\n",
    "INSERT INTO spacex(Date,Time_UTC,Booster_Version,Launch_Site,Payload,PAYLOAD_MASS_KG_,Orbit,Customer,Mission_Outcome,Landing_Outcome) VALUES ('2015-02-11','23:03:00','F9 v1.1 B1013','CCAFS LC-40','DSCOVR',570,'HEO','U.S. Air Force NASA NOAA','Success','Controlled (ocean)');\n",
    "INSERT INTO spacex(Date,Time_UTC,Booster_Version,Launch_Site,Payload,PAYLOAD_MASS_KG_,Orbit,Customer,Mission_Outcome,Landing_Outcome) VALUES ('2015-03-02','3:50:00','F9 v1.1 B1014','CCAFS LC-40','ABS-3A Eutelsat 115 West B',4159,'GTO','ABS Eutelsat','Success','No attempt');\n",
    "INSERT INTO spacex(Date,Time_UTC,Booster_Version,Launch_Site,Payload,PAYLOAD_MASS_KG_,Orbit,Customer,Mission_Outcome,Landing_Outcome) VALUES ('2015-04-14','20:10:00','F9 v1.1 B1015','CCAFS LC-40','SpaceX CRS-6',1898,'LEO (ISS)','NASA (CRS)','Success','Failure (drone ship)');\n",
    "INSERT INTO spacex(Date,Time_UTC,Booster_Version,Launch_Site,Payload,PAYLOAD_MASS_KG_,Orbit,Customer,Mission_Outcome,Landing_Outcome) VALUES ('2015-04-27','23:03:00','F9 v1.1 B1016','CCAFS LC-40','Turkmen 52 / MonacoSAT',4707,'GTO','Turkmenistan National Space Agency','Success','No attempt');\n",
    "INSERT INTO spacex(Date,Time_UTC,Booster_Version,Launch_Site,Payload,PAYLOAD_MASS_KG_,Orbit,Customer,Mission_Outcome,Landing_Outcome) VALUES ('2015-06-28','14:21:00','F9 v1.1 B1018','CCAFS LC-40','SpaceX CRS-7',1952,'LEO (ISS)','NASA (CRS)','Failure (in flight)','Precluded (drone ship)');\n",
    "INSERT INTO spacex(Date,Time_UTC,Booster_Version,Launch_Site,Payload,PAYLOAD_MASS_KG_,Orbit,Customer,Mission_Outcome,Landing_Outcome) VALUES ('2015-12-22','1:29:00','F9 FT B1019','CCAFS LC-40','OG2 Mission 2  11 Orbcomm-OG2 satellites',2034,'LEO','Orbcomm','Success','Success (ground pad)');\n",
    "INSERT INTO spacex(Date,Time_UTC,Booster_Version,Launch_Site,Payload,PAYLOAD_MASS_KG_,Orbit,Customer,Mission_Outcome,Landing_Outcome) VALUES ('2016-01-17','18:42:00','F9 v1.1 B1017','VAFB SLC-4E','Jason-3',553,'LEO','NASA (LSP) NOAA CNES','Success','Failure (drone ship)');\n",
    "INSERT INTO spacex(Date,Time_UTC,Booster_Version,Launch_Site,Payload,PAYLOAD_MASS_KG_,Orbit,Customer,Mission_Outcome,Landing_Outcome) VALUES ('2016-03-04','23:35:00','F9 FT B1020','CCAFS LC-40','SES-9',5271,'GTO','SES','Success','Failure (drone ship)');\n",
    "INSERT INTO spacex(Date,Time_UTC,Booster_Version,Launch_Site,Payload,PAYLOAD_MASS_KG_,Orbit,Customer,Mission_Outcome,Landing_Outcome) VALUES ('2016-04-08','20:43:00','F9 FT B1021.1','CCAFS LC-40','SpaceX CRS-8',3136,'LEO (ISS)','NASA (CRS)','Success','Success (drone ship)');\n",
    "INSERT INTO spacex(Date,Time_UTC,Booster_Version,Launch_Site,Payload,PAYLOAD_MASS_KG_,Orbit,Customer,Mission_Outcome,Landing_Outcome) VALUES ('2016-05-06','5:21:00','F9 FT B1022','CCAFS LC-40','JCSAT-14',4696,'GTO','SKY Perfect JSAT Group','Success','Success (drone ship)');\n",
    "INSERT INTO spacex(Date,Time_UTC,Booster_Version,Launch_Site,Payload,PAYLOAD_MASS_KG_,Orbit,Customer,Mission_Outcome,Landing_Outcome) VALUES ('2016-05-27','21:39:00','F9 FT B1023.1','CCAFS LC-40','Thaicom 8',3100,'GTO','Thaicom','Success','Success (drone ship)');\n",
    "INSERT INTO spacex(Date,Time_UTC,Booster_Version,Launch_Site,Payload,PAYLOAD_MASS_KG_,Orbit,Customer,Mission_Outcome,Landing_Outcome) VALUES ('2016-06-15','14:29:00','F9 FT B1024','CCAFS LC-40','ABS-2A Eutelsat 117 West B',3600,'GTO','ABS Eutelsat','Success','Failure (drone ship)');\n",
    "INSERT INTO spacex(Date,Time_UTC,Booster_Version,Launch_Site,Payload,PAYLOAD_MASS_KG_,Orbit,Customer,Mission_Outcome,Landing_Outcome) VALUES ('2016-07-18','4:45:00','F9 FT B1025.1','CCAFS LC-40','SpaceX CRS-9',2257,'LEO (ISS)','NASA (CRS)','Success','Success (ground pad)');\n",
    "INSERT INTO spacex(Date,Time_UTC,Booster_Version,Launch_Site,Payload,PAYLOAD_MASS_KG_,Orbit,Customer,Mission_Outcome,Landing_Outcome) VALUES ('2016-08-14','5:26:00','F9 FT B1026','CCAFS LC-40','JCSAT-16',4600,'GTO','SKY Perfect JSAT Group','Success','Success (drone ship)');\n",
    "INSERT INTO spacex(Date,Time_UTC,Booster_Version,Launch_Site,Payload,PAYLOAD_MASS_KG_,Orbit,Customer,Mission_Outcome,Landing_Outcome) VALUES ('2017-01-14','17:54:00','F9 FT B1029.1','VAFB SLC-4E','Iridium NEXT 1',9600,'Polar LEO','Iridium Communications','Success','Success (drone ship)');\n",
    "INSERT INTO spacex(Date,Time_UTC,Booster_Version,Launch_Site,Payload,PAYLOAD_MASS_KG_,Orbit,Customer,Mission_Outcome,Landing_Outcome) VALUES ('2017-02-19','14:39:00','F9 FT B1031.1','KSC LC-39A','SpaceX CRS-10',2490,'LEO (ISS)','NASA (CRS)','Success','Success (ground pad)');\n",
    "INSERT INTO spacex(Date,Time_UTC,Booster_Version,Launch_Site,Payload,PAYLOAD_MASS_KG_,Orbit,Customer,Mission_Outcome,Landing_Outcome) VALUES ('2017-03-16','6:00:00','F9 FT B1030','KSC LC-39A','EchoStar 23',5600,'GTO','EchoStar','Success','No attempt');\n",
    "INSERT INTO spacex(Date,Time_UTC,Booster_Version,Launch_Site,Payload,PAYLOAD_MASS_KG_,Orbit,Customer,Mission_Outcome,Landing_Outcome) VALUES ('2017-03-30','22:27:00','F9 FT  B1021.2','KSC LC-39A','SES-10',5300,'GTO','SES','Success','Success (drone ship)');\n",
    "INSERT INTO spacex(Date,Time_UTC,Booster_Version,Launch_Site,Payload,PAYLOAD_MASS_KG_,Orbit,Customer,Mission_Outcome,Landing_Outcome) VALUES ('2017-05-01','11:15:00','F9 FT B1032.1','KSC LC-39A','NROL-76',5300,'LEO','NRO','Success','Success (ground pad)');\n",
    "INSERT INTO spacex(Date,Time_UTC,Booster_Version,Launch_Site,Payload,PAYLOAD_MASS_KG_,Orbit,Customer,Mission_Outcome,Landing_Outcome) VALUES ('2017-05-15','23:21:00','F9 FT B1034','KSC LC-39A','Inmarsat-5 F4',6070,'GTO','Inmarsat','Success','No attempt');\n",
    "INSERT INTO spacex(Date,Time_UTC,Booster_Version,Launch_Site,Payload,PAYLOAD_MASS_KG_,Orbit,Customer,Mission_Outcome,Landing_Outcome) VALUES ('2017-06-03','21:07:00','F9 FT B1035.1','KSC LC-39A','SpaceX CRS-11',2708,'LEO (ISS)','NASA (CRS)','Success','Success (ground pad)');\n",
    "INSERT INTO spacex(Date,Time_UTC,Booster_Version,Launch_Site,Payload,PAYLOAD_MASS_KG_,Orbit,Customer,Mission_Outcome,Landing_Outcome) VALUES ('2017-06-23','19:10:00','F9 FT  B1029.2','KSC LC-39A','BulgariaSat-1',3669,'GTO','Bulsatcom','Success','Success (drone ship)');\n",
    "INSERT INTO spacex(Date,Time_UTC,Booster_Version,Launch_Site,Payload,PAYLOAD_MASS_KG_,Orbit,Customer,Mission_Outcome,Landing_Outcome) VALUES ('2017-06-25','20:25:00','F9 FT B1036.1','VAFB SLC-4E','Iridium NEXT 2',9600,'LEO','Iridium Communications','Success','Success (drone ship)');\n",
    "INSERT INTO spacex(Date,Time_UTC,Booster_Version,Launch_Site,Payload,PAYLOAD_MASS_KG_,Orbit,Customer,Mission_Outcome,Landing_Outcome) VALUES ('2017-07-05','23:38:00','F9 FT B1037','KSC LC-39A','Intelsat 35e',6761,'GTO','Intelsat','Success','No attempt');\n",
    "INSERT INTO spacex(Date,Time_UTC,Booster_Version,Launch_Site,Payload,PAYLOAD_MASS_KG_,Orbit,Customer,Mission_Outcome,Landing_Outcome) VALUES ('2017-08-14','16:31:00','F9 B4 B1039.1','KSC LC-39A','SpaceX CRS-12',3310,'LEO (ISS)','NASA (CRS)','Success','Success (ground pad)');\n",
    "INSERT INTO spacex(Date,Time_UTC,Booster_Version,Launch_Site,Payload,PAYLOAD_MASS_KG_,Orbit,Customer,Mission_Outcome,Landing_Outcome) VALUES ('2017-08-24','18:51:00','F9 FT B1038.1','VAFB SLC-4E','Formosat-5',475,'SSO','NSPO','Success','Success (drone ship)');\n",
    "INSERT INTO spacex(Date,Time_UTC,Booster_Version,Launch_Site,Payload,PAYLOAD_MASS_KG_,Orbit,Customer,Mission_Outcome,Landing_Outcome) VALUES ('2017-09-07','14:00:00','F9 B4 B1040.1','KSC LC-39A','Boeing X-37B OTV-5',4990,'LEO','U.S. Air Force','Success','Success (ground pad)');\n",
    "INSERT INTO spacex(Date,Time_UTC,Booster_Version,Launch_Site,Payload,PAYLOAD_MASS_KG_,Orbit,Customer,Mission_Outcome,Landing_Outcome) VALUES ('2017-10-09','12:37:00','F9 B4 B1041.1','VAFB SLC-4E','Iridium NEXT 3',9600,'Polar LEO','Iridium Communications','Success','Success (drone ship)');\n",
    "INSERT INTO spacex(Date,Time_UTC,Booster_Version,Launch_Site,Payload,PAYLOAD_MASS_KG_,Orbit,Customer,Mission_Outcome,Landing_Outcome) VALUES ('2017-10-11','22:53:00','F9 FT  B1031.2','KSC LC-39A','SES-11 / EchoStar 105',5200,'GTO','SES EchoStar','Success','Success (drone ship)');\n",
    "INSERT INTO spacex(Date,Time_UTC,Booster_Version,Launch_Site,Payload,PAYLOAD_MASS_KG_,Orbit,Customer,Mission_Outcome,Landing_Outcome) VALUES ('2017-10-30','19:34:00','F9 B4 B1042.1','KSC LC-39A','Koreasat 5A',3500,'GTO','KT Corporation','Success','Success (drone ship)');\n",
    "INSERT INTO spacex(Date,Time_UTC,Booster_Version,Launch_Site,Payload,PAYLOAD_MASS_KG_,Orbit,Customer,Mission_Outcome,Landing_Outcome) VALUES ('2017-12-15','15:36:00','F9 FT  B1035.2','CCAFS SLC-40','SpaceX CRS-13',2205,'LEO (ISS)','NASA (CRS)','Success','Success (ground pad)');\n",
    "INSERT INTO spacex(Date,Time_UTC,Booster_Version,Launch_Site,Payload,PAYLOAD_MASS_KG_,Orbit,Customer,Mission_Outcome,Landing_Outcome) VALUES ('2017-12-23','1:27:00','F9 FT  B1036.2','VAFB SLC-4E','Iridium NEXT 4',9600,'Polar LEO','Iridium Communications','Success','Controlled (ocean)');\n",
    "INSERT INTO spacex(Date,Time_UTC,Booster_Version,Launch_Site,Payload,PAYLOAD_MASS_KG_,Orbit,Customer,Mission_Outcome,Landing_Outcome) VALUES ('2018-01-08','1:00:00','F9 B4 B1043.1','CCAFS SLC-40','Zuma',5000,'LEO','Northrop Grumman','Success (payload status unclear)','Success (ground pad)');\n",
    "INSERT INTO spacex(Date,Time_UTC,Booster_Version,Launch_Site,Payload,PAYLOAD_MASS_KG_,Orbit,Customer,Mission_Outcome,Landing_Outcome) VALUES ('2018-01-31','21:25:00','F9 FT  B1032.2','CCAFS SLC-40','GovSat-1 / SES-16',4230,'GTO','SES','Success','Controlled (ocean)');\n",
    "INSERT INTO spacex(Date,Time_UTC,Booster_Version,Launch_Site,Payload,PAYLOAD_MASS_KG_,Orbit,Customer,Mission_Outcome,Landing_Outcome) VALUES ('2018-02-22','14:17:00','F9 FT  B1038.2','VAFB SLC-4E','Paz  Tintin A & B',2150,'SSO','Hisdesat exactEarth SpaceX','Success','No attempt');\n",
    "INSERT INTO spacex(Date,Time_UTC,Booster_Version,Launch_Site,Payload,PAYLOAD_MASS_KG_,Orbit,Customer,Mission_Outcome,Landing_Outcome) VALUES ('2018-03-06','5:33:00','F9 B4 B1044','CCAFS SLC-40','Hispasat 30W-6  PODSat',6092,'GTO','Hispasat  NovaWurks','Success','No attempt');\n",
    "INSERT INTO spacex(Date,Time_UTC,Booster_Version,Launch_Site,Payload,PAYLOAD_MASS_KG_,Orbit,Customer,Mission_Outcome,Landing_Outcome) VALUES ('2018-03-30','14:14:00','F9 B4  B1041.2','VAFB SLC-4E','Iridium NEXT 5',9600,'Polar LEO','Iridium Communications','Success','No attempt');\n",
    "INSERT INTO spacex(Date,Time_UTC,Booster_Version,Launch_Site,Payload,PAYLOAD_MASS_KG_,Orbit,Customer,Mission_Outcome,Landing_Outcome) VALUES ('2018-04-02','20:30:00','F9 B4  B1039.2','CCAFS SLC-40','SpaceX CRS-14',2647,'LEO (ISS)','NASA (CRS)','Success','No attempt');\n",
    "INSERT INTO spacex(Date,Time_UTC,Booster_Version,Launch_Site,Payload,PAYLOAD_MASS_KG_,Orbit,Customer,Mission_Outcome,Landing_Outcome) VALUES ('2018-04-18','22:51:00','F9 B4 B1045.1','CCAFS SLC-40','Transiting Exoplanet Survey Satellite (TESS)',362,'HEO','NASA (LSP)','Success','Success (drone ship)');\n",
    "INSERT INTO spacex(Date,Time_UTC,Booster_Version,Launch_Site,Payload,PAYLOAD_MASS_KG_,Orbit,Customer,Mission_Outcome,Landing_Outcome) VALUES ('2018-05-11','20:14:00','F9 B5  B1046.1','KSC LC-39A','Bangabandhu-1',3600,'GTO','Thales-Alenia/BTRC','Success','Success (drone ship)');\n",
    "INSERT INTO spacex(Date,Time_UTC,Booster_Version,Launch_Site,Payload,PAYLOAD_MASS_KG_,Orbit,Customer,Mission_Outcome,Landing_Outcome) VALUES ('2018-05-22','19:47:58','F9 B4  B1043.2','VAFB SLC-4E','Iridium NEXT 6   GRACE-FO 1, 2',6460,'Polar LEO','Iridium Communications GFZ ‚ NASA','Success','No attempt');\n",
    "INSERT INTO spacex(Date,Time_UTC,Booster_Version,Launch_Site,Payload,PAYLOAD_MASS_KG_,Orbit,Customer,Mission_Outcome,Landing_Outcome) VALUES ('2018-06-04','4:45:00','F9 B4  B1040.2','CCAFS SLC-40','SES-12',5384,'GTO','SES','Success','No attempt');\n",
    "INSERT INTO spacex(Date,Time_UTC,Booster_Version,Launch_Site,Payload,PAYLOAD_MASS_KG_,Orbit,Customer,Mission_Outcome,Landing_Outcome) VALUES ('2018-06-29','9:42:00','F9 B4 B1045.2','CCAFS SLC-40','SpaceX CRS-15',2697,'LEO (ISS)','NASA (CRS)','Success','No attempt');\n",
    "INSERT INTO spacex(Date,Time_UTC,Booster_Version,Launch_Site,Payload,PAYLOAD_MASS_KG_,Orbit,Customer,Mission_Outcome,Landing_Outcome) VALUES ('2018-07-22','5:50:00','F9 B5B1047.1','CCAFS SLC-40','Telstar 19V',7075,'GTO','Telesat','Success','Success');\n",
    "INSERT INTO spacex(Date,Time_UTC,Booster_Version,Launch_Site,Payload,PAYLOAD_MASS_KG_,Orbit,Customer,Mission_Outcome,Landing_Outcome) VALUES ('2018-07-25','11:39:00','F9 B5B1048.1','VAFB SLC-4E','Iridium NEXT-7',9600,'Polar LEO','Iridium Communications','Success','Success');\n",
    "INSERT INTO spacex(Date,Time_UTC,Booster_Version,Launch_Site,Payload,PAYLOAD_MASS_KG_,Orbit,Customer,Mission_Outcome,Landing_Outcome) VALUES ('2018-08-07','5:18:00','F9 B5 B1046.2','CCAFS SLC-40','Merah Putih',5800,'GTO','Telkom Indonesia','Success','Success');\n",
    "INSERT INTO spacex(Date,Time_UTC,Booster_Version,Launch_Site,Payload,PAYLOAD_MASS_KG_,Orbit,Customer,Mission_Outcome,Landing_Outcome) VALUES ('2018-09-10','4:45:00','F9 B5B1049.1','CCAFS SLC-40','Telstar 18V / Apstar-5C',7060,'GTO','Telesat','Success','Success');\n",
    "INSERT INTO spacex(Date,Time_UTC,Booster_Version,Launch_Site,Payload,PAYLOAD_MASS_KG_,Orbit,Customer,Mission_Outcome,Landing_Outcome) VALUES ('2018-10-08','2:22:00','F9 B5 B1048.2','VAFB SLC-4E','SAOCOM 1A',3000,'SSO','CONAE','Success','Success');\n",
    "INSERT INTO spacex(Date,Time_UTC,Booster_Version,Launch_Site,Payload,PAYLOAD_MASS_KG_,Orbit,Customer,Mission_Outcome,Landing_Outcome) VALUES ('2018-11-15','20:46:00','F9 B5 B1047.2','KSC LC-39A','Es hail 2',5300,'GTO','Es hailSat','Success','Success');\n",
    "INSERT INTO spacex(Date,Time_UTC,Booster_Version,Launch_Site,Payload,PAYLOAD_MASS_KG_,Orbit,Customer,Mission_Outcome,Landing_Outcome) VALUES ('2018-12-03','18:34:05','F9 B5 B1046.3','VAFB SLC-4E','SSO-A',4000,'SSO','Spaceflight Industries','Success','Success');\n",
    "INSERT INTO spacex(Date,Time_UTC,Booster_Version,Launch_Site,Payload,PAYLOAD_MASS_KG_,Orbit,Customer,Mission_Outcome,Landing_Outcome) VALUES ('2018-12-05','18:16:00','F9 B5B1050','CCAFS SLC-40','SpaceX CRS-16',2500,'LEO (ISS)','NASA (CRS)','Success','Failure');\n",
    "INSERT INTO spacex(Date,Time_UTC,Booster_Version,Launch_Site,Payload,PAYLOAD_MASS_KG_,Orbit,Customer,Mission_Outcome,Landing_Outcome) VALUES ('2018-12-23','13:51:00','F9 B5B1054','CCAFS SLC-40','GPS III-01',4400,'MEO','USAF','Success','No attempt');\n",
    "INSERT INTO spacex(Date,Time_UTC,Booster_Version,Launch_Site,Payload,PAYLOAD_MASS_KG_,Orbit,Customer,Mission_Outcome,Landing_Outcome) VALUES ('2019-01-11','15:31:00','F9 B5 B1049.2','VAFB SLC-4E','Iridium NEXT-8',9600,'Polar LEO','Iridium Communications','Success','Success');\n",
    "INSERT INTO spacex(Date,Time_UTC,Booster_Version,Launch_Site,Payload,PAYLOAD_MASS_KG_,Orbit,Customer,Mission_Outcome,Landing_Outcome) VALUES ('2019-02-22','1:45:00','F9 B5 B1048.3','CCAFS SLC-40','Nusantara Satu, Beresheet Moon lander, S5',4850,'GTO','PSN, SpaceIL / IAI','Success','Success');\n",
    "INSERT INTO spacex(Date,Time_UTC,Booster_Version,Launch_Site,Payload,PAYLOAD_MASS_KG_,Orbit,Customer,Mission_Outcome,Landing_Outcome) VALUES ('2019-03-02','7:49:00','F9 B5B1051.1','KSC LC-39A','Crew Dragon Demo-1, SpaceX CRS-17',12055,'LEO (ISS)','NASA (CCD)','Success','Success');\n",
    "INSERT INTO spacex(Date,Time_UTC,Booster_Version,Launch_Site,Payload,PAYLOAD_MASS_KG_,Orbit,Customer,Mission_Outcome,Landing_Outcome) VALUES ('2019-05-04','6:48:00','F9 B5B1056.1','CCAFS SLC-40','SpaceX CRS-17, Starlink v0.9',2495,'LEO (ISS)','NASA (CRS)','Success','Success');\n",
    "INSERT INTO spacex(Date,Time_UTC,Booster_Version,Launch_Site,Payload,PAYLOAD_MASS_KG_,Orbit,Customer,Mission_Outcome,Landing_Outcome) VALUES ('2019-05-24','2:30:00','F9 B5 B1049.3','CCAFS SLC-40','Starlink v0.9, RADARSAT Constellation',13620,'LEO','SpaceX','Success','Success');\n",
    "INSERT INTO spacex(Date,Time_UTC,Booster_Version,Launch_Site,Payload,PAYLOAD_MASS_KG_,Orbit,Customer,Mission_Outcome,Landing_Outcome) VALUES ('2019-06-12','14:17:00','F9 B5 B1051.2','VAFB SLC-4E','RADARSAT Constellation, SpaceX CRS-18',4200,'SSO','Canadian Space Agency (CSA)','Success','Success');\n",
    "INSERT INTO spacex(Date,Time_UTC,Booster_Version,Launch_Site,Payload,PAYLOAD_MASS_KG_,Orbit,Customer,Mission_Outcome,Landing_Outcome) VALUES ('2019-07-25','22:01:00','F9 B5 B1056.2','CCAFS SLC-40','SpaceX CRS-18, AMOS-17',2268,'LEO (ISS)','NASA (CRS)','Success','Success');\n",
    "INSERT INTO spacex(Date,Time_UTC,Booster_Version,Launch_Site,Payload,PAYLOAD_MASS_KG_,Orbit,Customer,Mission_Outcome,Landing_Outcome) VALUES ('2019-08-06','23:23:00','F9 B5 B1047.3','CCAFS SLC-40','AMOS-17, Starlink 1 v1.0',6500,'GTO','Spacecom','Success','No attempt');\n",
    "INSERT INTO spacex(Date,Time_UTC,Booster_Version,Launch_Site,Payload,PAYLOAD_MASS_KG_,Orbit,Customer,Mission_Outcome,Landing_Outcome) VALUES ('2019-11-11','14:56:00','F9 B5 B1048.4','CCAFS SLC-40','Starlink 1 v1.0, SpaceX CRS-19',15600,'LEO','SpaceX','Success','Success');\n",
    "INSERT INTO spacex(Date,Time_UTC,Booster_Version,Launch_Site,Payload,PAYLOAD_MASS_KG_,Orbit,Customer,Mission_Outcome,Landing_Outcome) VALUES ('2019-12-05','17:29:00','F9 B5B1059.1','CCAFS SLC-40','SpaceX CRS-19, JCSat-18 / Kacific 1',2617,'LEO (ISS)','NASA (CRS), Kacific 1','Success','Success');\n",
    "INSERT INTO spacex(Date,Time_UTC,Booster_Version,Launch_Site,Payload,PAYLOAD_MASS_KG_,Orbit,Customer,Mission_Outcome,Landing_Outcome) VALUES ('2019-12-17','0:10:00','F9 B5 B1056.3','CCAFS SLC-40','JCSat-18 / Kacific 1, Starlink 2 v1.0',6956,'GTO','Sky Perfect JSAT, Kacific 1','Success','Success');\n",
    "INSERT INTO spacex(Date,Time_UTC,Booster_Version,Launch_Site,Payload,PAYLOAD_MASS_KG_,Orbit,Customer,Mission_Outcome,Landing_Outcome) VALUES ('2020-01-07','2:33:00','F9 B5 B1049.4','CCAFS SLC-40','Starlink 2 v1.0, Crew Dragon in-flight abort test',15600,'LEO','SpaceX','Success','Success');\n",
    "INSERT INTO spacex(Date,Time_UTC,Booster_Version,Launch_Site,Payload,PAYLOAD_MASS_KG_,Orbit,Customer,Mission_Outcome,Landing_Outcome) VALUES ('2020-01-19','15:30:00','F9 B5 B1046.4','KSC LC-39A','Crew Dragon in-flight abort test, Starlink 3 v1.0',12050,'Sub-orbital','NASA (CTS)','Success','No attempt');\n",
    "INSERT INTO spacex(Date,Time_UTC,Booster_Version,Launch_Site,Payload,PAYLOAD_MASS_KG_,Orbit,Customer,Mission_Outcome,Landing_Outcome) VALUES ('2020-01-29','14:07:00','F9 B5 B1051.3','CCAFS SLC-40','Starlink 3 v1.0, Starlink 4 v1.0',15600,'LEO','SpaceX','Success','Success');\n",
    "INSERT INTO spacex(Date,Time_UTC,Booster_Version,Launch_Site,Payload,PAYLOAD_MASS_KG_,Orbit,Customer,Mission_Outcome,Landing_Outcome) VALUES ('2020-02-17','15:05:00','F9 B5 B1056.4','CCAFS SLC-40','Starlink 4 v1.0, SpaceX CRS-20',15600,'LEO','SpaceX','Success','Failure');\n",
    "INSERT INTO spacex(Date,Time_UTC,Booster_Version,Launch_Site,Payload,PAYLOAD_MASS_KG_,Orbit,Customer,Mission_Outcome,Landing_Outcome) VALUES ('2020-03-07','4:50:00','F9 B5 B1059.2','CCAFS SLC-40','SpaceX CRS-20, Starlink 5 v1.0',1977,'LEO (ISS)','NASA (CRS)','Success','Success');\n",
    "INSERT INTO spacex(Date,Time_UTC,Booster_Version,Launch_Site,Payload,PAYLOAD_MASS_KG_,Orbit,Customer,Mission_Outcome,Landing_Outcome) VALUES ('2020-03-18','12:16:00','F9 B5 B1048.5','KSC LC-39A','Starlink 5 v1.0, Starlink 6 v1.0',15600,'LEO','SpaceX','Success','Failure');\n",
    "INSERT INTO spacex(Date,Time_UTC,Booster_Version,Launch_Site,Payload,PAYLOAD_MASS_KG_,Orbit,Customer,Mission_Outcome,Landing_Outcome) VALUES ('2020-04-22','19:30:00','F9 B5 B1051.4','KSC LC-39A','Starlink 6 v1.0, Crew Dragon Demo-2',15600,'LEO','SpaceX','Success','Success');\n",
    "INSERT INTO spacex(Date,Time_UTC,Booster_Version,Launch_Site,Payload,PAYLOAD_MASS_KG_,Orbit,Customer,Mission_Outcome,Landing_Outcome) VALUES ('2020-05-30','19:22:00','F9 B5B1058.1','KSC LC-39A','Crew Dragon Demo-2, Starlink 7 v1.0',12530,'LEO (ISS)','NASA (CCDev)','Success','Success');\n",
    "INSERT INTO spacex(Date,Time_UTC,Booster_Version,Launch_Site,Payload,PAYLOAD_MASS_KG_,Orbit,Customer,Mission_Outcome,Landing_Outcome) VALUES ('2020-06-04','1:25:00','F9 B5 B1049.5','CCAFS SLC-40','Starlink 7 v1.0, Starlink 8 v1.0',15600,'LEO','SpaceX, Planet Labs','Success','Success');\n",
    "INSERT INTO spacex(Date,Time_UTC,Booster_Version,Launch_Site,Payload,PAYLOAD_MASS_KG_,Orbit,Customer,Mission_Outcome,Landing_Outcome) VALUES ('2020-06-13','9:21:00','F9 B5 B1059.3','CCAFS SLC-40','Starlink 8 v1.0, SkySats-16, -17, -18, GPS III-03',15410,'LEO','SpaceX, Planet Labs','Success','Success');\n",
    "INSERT INTO spacex(Date,Time_UTC,Booster_Version,Launch_Site,Payload,PAYLOAD_MASS_KG_,Orbit,Customer,Mission_Outcome,Landing_Outcome) VALUES ('2020-06-30','20:10:46','F9 B5B1060.1','CCAFS SLC-40','GPS III-03, ANASIS-II',4311,'MEO','U.S. Space Force','Success','Success');\n",
    "INSERT INTO spacex(Date,Time_UTC,Booster_Version,Launch_Site,Payload,PAYLOAD_MASS_KG_,Orbit,Customer,Mission_Outcome,Landing_Outcome) VALUES ('2020-07-20','21:30:00','F9 B5 B1058.2','CCAFS SLC-40','ANASIS-II, Starlink 9 v1.0',5500,'GTO','Republic of Korea Army, Spaceflight Industries (BlackSky)','Success','Success');\n",
    "INSERT INTO spacex(Date,Time_UTC,Booster_Version,Launch_Site,Payload,PAYLOAD_MASS_KG_,Orbit,Customer,Mission_Outcome,Landing_Outcome) VALUES ('2020-08-07','5:12:00','F9 B5 B1051.5','KSC LC-39A','Starlink 9 v1.0, SXRS-1, Starlink 10 v1.0',14932,'LEO','SpaceX, Spaceflight Industries (BlackSky), Planet Labs','Success','Success');\n",
    "INSERT INTO spacex(Date,Time_UTC,Booster_Version,Launch_Site,Payload,PAYLOAD_MASS_KG_,Orbit,Customer,Mission_Outcome,Landing_Outcome) VALUES ('2020-08-18','14:31:00','F9 B5 B1049.6','CCAFS SLC-40','Starlink 10 v1.0, SkySat-19, -20, -21, SAOCOM 1B',15440,'LEO','SpaceX, Planet Labs, PlanetIQ','Success','Success');\n",
    "INSERT INTO spacex(Date,Time_UTC,Booster_Version,Launch_Site,Payload,PAYLOAD_MASS_KG_,Orbit,Customer,Mission_Outcome,Landing_Outcome) VALUES ('2020-08-30','23:18:00','F9 B5 B1059.4','CCAFS SLC-40','SAOCOM 1B, GNOMES 1, Tyvak-0172',3130,'SSO','CONAE, PlanetIQ, SpaceX','Success','Success');\n",
    "INSERT INTO spacex(Date,Time_UTC,Booster_Version,Launch_Site,Payload,PAYLOAD_MASS_KG_,Orbit,Customer,Mission_Outcome,Landing_Outcome) VALUES ('2020-09-03','12:46:14','F9 B5 B1060.2','KSC LC-39A','Starlink 11 v1.0, Starlink 12 v1.0',15600,'LEO','SpaceX','Success','Success');\n",
    "INSERT INTO spacex(Date,Time_UTC,Booster_Version,Launch_Site,Payload,PAYLOAD_MASS_KG_,Orbit,Customer,Mission_Outcome,Landing_Outcome) VALUES ('2020-10-06','11:29:34','F9 B5 B1058.3','KSC LC-39A','Starlink 12 v1.0, Starlink 13 v1.0',15600,'LEO','SpaceX','Success','Success');\n",
    "INSERT INTO spacex(Date,Time_UTC,Booster_Version,Launch_Site,Payload,PAYLOAD_MASS_KG_,Orbit,Customer,Mission_Outcome,Landing_Outcome) VALUES ('2020-10-18','12:25:57','F9 B5 B1051.6','KSC LC-39A','Starlink 13 v1.0, Starlink 14 v1.0',15600,'LEO','SpaceX','Success','Success');\n",
    "INSERT INTO spacex(Date,Time_UTC,Booster_Version,Launch_Site,Payload,PAYLOAD_MASS_KG_,Orbit,Customer,Mission_Outcome,Landing_Outcome) VALUES ('2020-10-24','15:31:34','F9 B5 B1060.3','CCAFS SLC-40','Starlink 14 v1.0, GPS III-04',15600,'LEO','SpaceX','Success','Success');\n",
    "INSERT INTO spacex(Date,Time_UTC,Booster_Version,Launch_Site,Payload,PAYLOAD_MASS_KG_,Orbit,Customer,Mission_Outcome,Landing_Outcome) VALUES ('2020-11-05','23:24:23','F9 B5B1062.1','CCAFS SLC-40','GPS III-04 , Crew-1',4311,'MEO','USSF','Success','Success');\n",
    "INSERT INTO spacex(Date,Time_UTC,Booster_Version,Launch_Site,Payload,PAYLOAD_MASS_KG_,Orbit,Customer,Mission_Outcome,Landing_Outcome) VALUES ('2020-11-16','0:27:00','F9 B5B1061.1','KSC LC-39A','Crew-1, Sentinel-6 Michael Freilich',12500,'LEO (ISS)','NASA (CCP)','Success','Success');\n",
    "INSERT INTO spacex(Date,Time_UTC,Booster_Version,Launch_Site,Payload,PAYLOAD_MASS_KG_,Orbit,Customer,Mission_Outcome,Landing_Outcome) VALUES ('2020-11-21','17:17:08','F9 B5B1063.1','VAFB SLC-4E','Sentinel-6 Michael Freilich, Starlink 15 v1.0',1192,'LEO','NASA / NOAA / ESA / EUMETSAT','Success','Success');\n",
    "INSERT INTO spacex(Date,Time_UTC,Booster_Version,Launch_Site,Payload,PAYLOAD_MASS_KG_,Orbit,Customer,Mission_Outcome,Landing_Outcome) VALUES ('2020-11-25','2:13:00','F9 B5 B1049.7','CCAFS SLC-40','Starlink 15 v1.0, SpaceX CRS-21',15600,'LEO','SpaceX','Success','Success');\n",
    "INSERT INTO spacex(Date,Time_UTC,Booster_Version,Launch_Site,Payload,PAYLOAD_MASS_KG_,Orbit,Customer,Mission_Outcome,Landing_Outcome) VALUES ('2020-12-06','16:17:08','F9 B5 B1058.4','KSC LC-39A','SpaceX CRS-21',2972,'LEO (ISS)','NASA (CRS)','Success','Success');\n"
   ]
  },
  {
   "cell_type": "markdown",
   "metadata": {},
   "source": [
    "## Tasks\n",
    "\n",
    "Now write and execute SQL queries to solve the assignment tasks.\n",
    "\n",
    "**Note: If the column names are in mixed case enclose it in double quotes\n",
    "   For Example \"Landing_Outcome\"**\n",
    "\n",
    "### Task 1\n",
    "\n",
    "\n",
    "\n",
    "\n",
    "##### Display the names of the unique launch sites  in the space mission\n"
   ]
  },
  {
   "cell_type": "code",
   "execution_count": 10,
   "metadata": {
    "tags": []
   },
   "outputs": [
    {
     "name": "stdout",
     "output_type": "stream",
     "text": [
      " * sqlite:///my_data1.db\n",
      "Done.\n"
     ]
    },
    {
     "data": {
      "text/html": [
       "<table>\n",
       "    <thead>\n",
       "        <tr>\n",
       "            <th>Launch_Site</th>\n",
       "        </tr>\n",
       "    </thead>\n",
       "    <tbody>\n",
       "        <tr>\n",
       "            <td>CCAFS LC-40</td>\n",
       "        </tr>\n",
       "        <tr>\n",
       "            <td>VAFB SLC-4E</td>\n",
       "        </tr>\n",
       "        <tr>\n",
       "            <td>KSC LC-39A</td>\n",
       "        </tr>\n",
       "        <tr>\n",
       "            <td>CCAFS SLC-40</td>\n",
       "        </tr>\n",
       "    </tbody>\n",
       "</table>"
      ],
      "text/plain": [
       "[('CCAFS LC-40',), ('VAFB SLC-4E',), ('KSC LC-39A',), ('CCAFS SLC-40',)]"
      ]
     },
     "execution_count": 10,
     "metadata": {},
     "output_type": "execute_result"
    }
   ],
   "source": [
    "%sql SELECT DISTINCT LAUNCH_SITE FROM SPACEX"
   ]
  },
  {
   "cell_type": "markdown",
   "metadata": {},
   "source": [
    "\n",
    "### Task 2\n",
    "\n",
    "\n",
    "#####  Display 5 records where launch sites begin with the string 'CCA' \n"
   ]
  },
  {
   "cell_type": "code",
   "execution_count": 11,
   "metadata": {
    "tags": []
   },
   "outputs": [
    {
     "name": "stdout",
     "output_type": "stream",
     "text": [
      " * sqlite:///my_data1.db\n",
      "Done.\n"
     ]
    },
    {
     "data": {
      "text/html": [
       "<table>\n",
       "    <thead>\n",
       "        <tr>\n",
       "            <th>Launch_Site</th>\n",
       "        </tr>\n",
       "    </thead>\n",
       "    <tbody>\n",
       "        <tr>\n",
       "            <td>CCAFS LC-40</td>\n",
       "        </tr>\n",
       "        <tr>\n",
       "            <td>CCAFS LC-40</td>\n",
       "        </tr>\n",
       "        <tr>\n",
       "            <td>CCAFS LC-40</td>\n",
       "        </tr>\n",
       "        <tr>\n",
       "            <td>CCAFS LC-40</td>\n",
       "        </tr>\n",
       "        <tr>\n",
       "            <td>CCAFS LC-40</td>\n",
       "        </tr>\n",
       "    </tbody>\n",
       "</table>"
      ],
      "text/plain": [
       "[('CCAFS LC-40',),\n",
       " ('CCAFS LC-40',),\n",
       " ('CCAFS LC-40',),\n",
       " ('CCAFS LC-40',),\n",
       " ('CCAFS LC-40',)]"
      ]
     },
     "execution_count": 11,
     "metadata": {},
     "output_type": "execute_result"
    }
   ],
   "source": [
    "%%sql SELECT LAUNCH_SITE FROM SPACEX\n",
    "WHERE LAUNCH_SITE LIKE \"CCA%\"\n",
    "LIMIT 5"
   ]
  },
  {
   "cell_type": "markdown",
   "metadata": {},
   "source": [
    "### Task 3\n",
    "\n",
    "\n",
    "\n",
    "\n",
    "##### Display the total payload mass carried by boosters launched by NASA (CRS)\n"
   ]
  },
  {
   "cell_type": "code",
   "execution_count": 12,
   "metadata": {
    "tags": []
   },
   "outputs": [
    {
     "name": "stdout",
     "output_type": "stream",
     "text": [
      " * sqlite:///my_data1.db\n",
      "Done.\n"
     ]
    },
    {
     "data": {
      "text/html": [
       "<table>\n",
       "    <thead>\n",
       "        <tr>\n",
       "            <th>SUM(PAYLOAD_MASS_KG_)</th>\n",
       "            <th>Customer</th>\n",
       "        </tr>\n",
       "    </thead>\n",
       "    <tbody>\n",
       "        <tr>\n",
       "            <td>45596</td>\n",
       "            <td>NASA (CRS)</td>\n",
       "        </tr>\n",
       "    </tbody>\n",
       "</table>"
      ],
      "text/plain": [
       "[(45596, 'NASA (CRS)')]"
      ]
     },
     "execution_count": 12,
     "metadata": {},
     "output_type": "execute_result"
    }
   ],
   "source": [
    "%%sql SELECT SUM(PAYLOAD_MASS_KG_), CUSTOMER FROM SPACEX\n",
    "WHERE CUSTOMER = 'NASA (CRS)' \n"
   ]
  },
  {
   "cell_type": "markdown",
   "metadata": {},
   "source": [
    "### Task 4\n",
    "\n",
    "\n",
    "\n",
    "\n",
    "##### Display average payload mass carried by booster version F9 v1.1\n"
   ]
  },
  {
   "cell_type": "code",
   "execution_count": 13,
   "metadata": {
    "tags": []
   },
   "outputs": [
    {
     "name": "stdout",
     "output_type": "stream",
     "text": [
      " * sqlite:///my_data1.db\n",
      "Done.\n"
     ]
    },
    {
     "data": {
      "text/html": [
       "<table>\n",
       "    <thead>\n",
       "        <tr>\n",
       "            <th>AVG(PAYLOAD_MASS_KG_)</th>\n",
       "            <th>Booster_Version</th>\n",
       "        </tr>\n",
       "    </thead>\n",
       "    <tbody>\n",
       "        <tr>\n",
       "            <td>2928.4</td>\n",
       "            <td>F9 v1.1</td>\n",
       "        </tr>\n",
       "    </tbody>\n",
       "</table>"
      ],
      "text/plain": [
       "[(2928.4, 'F9 v1.1')]"
      ]
     },
     "execution_count": 13,
     "metadata": {},
     "output_type": "execute_result"
    }
   ],
   "source": [
    "%%sql SELECT AVG(PAYLOAD_MASS_KG_),BOOSTER_VERSION FROM SPACEX\n",
    "WHERE BOOSTER_VERSION = 'F9 v1.1'"
   ]
  },
  {
   "cell_type": "markdown",
   "metadata": {},
   "source": [
    "### Task 5\n",
    "\n",
    "##### List the date when the first succesful landing outcome in ground pad was acheived.\n",
    "\n",
    "\n",
    "_Hint:Use min function_ \n"
   ]
  },
  {
   "cell_type": "code",
   "execution_count": 14,
   "metadata": {
    "tags": []
   },
   "outputs": [
    {
     "name": "stdout",
     "output_type": "stream",
     "text": [
      " * sqlite:///my_data1.db\n",
      "Done.\n"
     ]
    },
    {
     "data": {
      "text/html": [
       "<table>\n",
       "    <thead>\n",
       "        <tr>\n",
       "            <th>MIN(DATE)</th>\n",
       "            <th>Landing_Outcome</th>\n",
       "        </tr>\n",
       "    </thead>\n",
       "    <tbody>\n",
       "        <tr>\n",
       "            <td>2015-12-22</td>\n",
       "            <td>Success (ground pad)</td>\n",
       "        </tr>\n",
       "    </tbody>\n",
       "</table>"
      ],
      "text/plain": [
       "[('2015-12-22', 'Success (ground pad)')]"
      ]
     },
     "execution_count": 14,
     "metadata": {},
     "output_type": "execute_result"
    }
   ],
   "source": [
    "%%sql SELECT MIN(DATE), LANDING_OUTCOME FROM SPACEX\n",
    "WHERE LANDING_OUTCOME = 'Success (ground pad)'"
   ]
  },
  {
   "cell_type": "markdown",
   "metadata": {},
   "source": [
    "### Task 6\n",
    "\n",
    "##### List the names of the boosters which have success in drone ship and have payload mass greater than 4000 but less than 6000\n"
   ]
  },
  {
   "cell_type": "code",
   "execution_count": 15,
   "metadata": {
    "tags": []
   },
   "outputs": [
    {
     "name": "stdout",
     "output_type": "stream",
     "text": [
      " * sqlite:///my_data1.db\n",
      "Done.\n"
     ]
    },
    {
     "data": {
      "text/html": [
       "<table>\n",
       "    <thead>\n",
       "        <tr>\n",
       "            <th>Booster_Version</th>\n",
       "            <th>Landing_Outcome</th>\n",
       "            <th>PAYLOAD_MASS_KG_</th>\n",
       "        </tr>\n",
       "    </thead>\n",
       "    <tbody>\n",
       "        <tr>\n",
       "            <td>F9 FT B1022</td>\n",
       "            <td>Success (drone ship)</td>\n",
       "            <td>4696</td>\n",
       "        </tr>\n",
       "        <tr>\n",
       "            <td>F9 FT B1026</td>\n",
       "            <td>Success (drone ship)</td>\n",
       "            <td>4600</td>\n",
       "        </tr>\n",
       "        <tr>\n",
       "            <td>F9 FT  B1021.2</td>\n",
       "            <td>Success (drone ship)</td>\n",
       "            <td>5300</td>\n",
       "        </tr>\n",
       "        <tr>\n",
       "            <td>F9 FT  B1031.2</td>\n",
       "            <td>Success (drone ship)</td>\n",
       "            <td>5200</td>\n",
       "        </tr>\n",
       "    </tbody>\n",
       "</table>"
      ],
      "text/plain": [
       "[('F9 FT B1022', 'Success (drone ship)', 4696),\n",
       " ('F9 FT B1026', 'Success (drone ship)', 4600),\n",
       " ('F9 FT  B1021.2', 'Success (drone ship)', 5300),\n",
       " ('F9 FT  B1031.2', 'Success (drone ship)', 5200)]"
      ]
     },
     "execution_count": 15,
     "metadata": {},
     "output_type": "execute_result"
    }
   ],
   "source": [
    "%%sql SELECT BOOSTER_VERSION, LANDING_OUTCOME,PAYLOAD_MASS_KG_ FROM SPACEX\n",
    "WHERE PAYLOAD_MASS_KG_ BETWEEN 4000 AND 6000\n",
    "AND LANDING_OUTCOME = 'Success (drone ship)'"
   ]
  },
  {
   "cell_type": "markdown",
   "metadata": {},
   "source": [
    "### Task 7\n",
    "\n",
    "\n",
    "\n",
    "\n",
    "##### List the total number of successful and failure mission outcomes\n"
   ]
  },
  {
   "cell_type": "code",
   "execution_count": 20,
   "metadata": {
    "tags": []
   },
   "outputs": [
    {
     "name": "stdout",
     "output_type": "stream",
     "text": [
      " * sqlite:///my_data1.db\n",
      "Done.\n"
     ]
    },
    {
     "data": {
      "text/html": [
       "<table>\n",
       "    <thead>\n",
       "        <tr>\n",
       "            <th>Mission_Outcome</th>\n",
       "            <th>COUNT(MISSION_OUTCOME)</th>\n",
       "        </tr>\n",
       "    </thead>\n",
       "    <tbody>\n",
       "        <tr>\n",
       "            <td>Failure (in flight)</td>\n",
       "            <td>1</td>\n",
       "        </tr>\n",
       "        <tr>\n",
       "            <td>Success</td>\n",
       "            <td>99</td>\n",
       "        </tr>\n",
       "        <tr>\n",
       "            <td>Success (payload status unclear)</td>\n",
       "            <td>1</td>\n",
       "        </tr>\n",
       "    </tbody>\n",
       "</table>"
      ],
      "text/plain": [
       "[('Failure (in flight)', 1),\n",
       " ('Success', 99),\n",
       " ('Success (payload status unclear)', 1)]"
      ]
     },
     "execution_count": 20,
     "metadata": {},
     "output_type": "execute_result"
    }
   ],
   "source": [
    "%%sql SELECT MISSION_OUTCOME,COUNT(MISSION_OUTCOME) FROM SPACEX\n",
    "GROUP BY MISSION_OUTCOME"
   ]
  },
  {
   "cell_type": "markdown",
   "metadata": {},
   "source": [
    "### Task 8\n",
    "\n",
    "\n",
    "\n",
    "##### List the   names of the booster_versions which have carried the maximum payload mass. Use a subquery\n"
   ]
  },
  {
   "cell_type": "code",
   "execution_count": 23,
   "metadata": {
    "tags": []
   },
   "outputs": [
    {
     "name": "stdout",
     "output_type": "stream",
     "text": [
      " * sqlite:///my_data1.db\n",
      "Done.\n"
     ]
    },
    {
     "data": {
      "text/html": [
       "<table>\n",
       "    <thead>\n",
       "        <tr>\n",
       "            <th>Booster_Version</th>\n",
       "            <th>PAYLOAD_MASS_KG_</th>\n",
       "        </tr>\n",
       "    </thead>\n",
       "    <tbody>\n",
       "        <tr>\n",
       "            <td>F9 B5 B1048.4</td>\n",
       "            <td>15600</td>\n",
       "        </tr>\n",
       "        <tr>\n",
       "            <td>F9 B5 B1049.4</td>\n",
       "            <td>15600</td>\n",
       "        </tr>\n",
       "        <tr>\n",
       "            <td>F9 B5 B1051.3</td>\n",
       "            <td>15600</td>\n",
       "        </tr>\n",
       "        <tr>\n",
       "            <td>F9 B5 B1056.4</td>\n",
       "            <td>15600</td>\n",
       "        </tr>\n",
       "        <tr>\n",
       "            <td>F9 B5 B1048.5</td>\n",
       "            <td>15600</td>\n",
       "        </tr>\n",
       "        <tr>\n",
       "            <td>F9 B5 B1051.4</td>\n",
       "            <td>15600</td>\n",
       "        </tr>\n",
       "        <tr>\n",
       "            <td>F9 B5 B1049.5</td>\n",
       "            <td>15600</td>\n",
       "        </tr>\n",
       "        <tr>\n",
       "            <td>F9 B5 B1060.2</td>\n",
       "            <td>15600</td>\n",
       "        </tr>\n",
       "        <tr>\n",
       "            <td>F9 B5 B1058.3</td>\n",
       "            <td>15600</td>\n",
       "        </tr>\n",
       "        <tr>\n",
       "            <td>F9 B5 B1051.6</td>\n",
       "            <td>15600</td>\n",
       "        </tr>\n",
       "        <tr>\n",
       "            <td>F9 B5 B1060.3</td>\n",
       "            <td>15600</td>\n",
       "        </tr>\n",
       "        <tr>\n",
       "            <td>F9 B5 B1049.7</td>\n",
       "            <td>15600</td>\n",
       "        </tr>\n",
       "    </tbody>\n",
       "</table>"
      ],
      "text/plain": [
       "[('F9 B5 B1048.4', 15600),\n",
       " ('F9 B5 B1049.4', 15600),\n",
       " ('F9 B5 B1051.3', 15600),\n",
       " ('F9 B5 B1056.4', 15600),\n",
       " ('F9 B5 B1048.5', 15600),\n",
       " ('F9 B5 B1051.4', 15600),\n",
       " ('F9 B5 B1049.5', 15600),\n",
       " ('F9 B5 B1060.2', 15600),\n",
       " ('F9 B5 B1058.3', 15600),\n",
       " ('F9 B5 B1051.6', 15600),\n",
       " ('F9 B5 B1060.3', 15600),\n",
       " ('F9 B5 B1049.7', 15600)]"
      ]
     },
     "execution_count": 23,
     "metadata": {},
     "output_type": "execute_result"
    }
   ],
   "source": [
    "%%sql SELECT BOOSTER_VERSION, PAYLOAD_MASS_KG_ FROM SPACEX WHERE\n",
    "PAYLOAD_MASS_KG_ = (SELECT MAX(PAYLOAD_MASS_KG_) FROM SPACEX)"
   ]
  },
  {
   "cell_type": "markdown",
   "metadata": {},
   "source": [
    "### Task 9\n",
    "\n",
    "\n",
    "##### List the records which will display the month names, failure landing_outcomes in drone ship ,booster versions, launch_site for the months in year 2015.\n",
    "\n",
    "**Note: SQLLite does not support monthnames. So you need to use  substr(Date, 4, 2) as month to get the months and substr(Date,7,4)='2015' for year.**\n"
   ]
  },
  {
   "cell_type": "code",
   "execution_count": 26,
   "metadata": {
    "tags": []
   },
   "outputs": [
    {
     "name": "stdout",
     "output_type": "stream",
     "text": [
      " * sqlite:///my_data1.db\n",
      "Done.\n"
     ]
    },
    {
     "data": {
      "text/html": [
       "<table>\n",
       "    <thead>\n",
       "        <tr>\n",
       "            <th>MONTH</th>\n",
       "            <th>Landing_Outcome</th>\n",
       "            <th>Booster_Version</th>\n",
       "        </tr>\n",
       "    </thead>\n",
       "    <tbody>\n",
       "        <tr>\n",
       "            <td>01</td>\n",
       "            <td>Failure (drone ship)</td>\n",
       "            <td>F9 v1.1 B1012</td>\n",
       "        </tr>\n",
       "        <tr>\n",
       "            <td>04</td>\n",
       "            <td>Failure (drone ship)</td>\n",
       "            <td>F9 v1.1 B1015</td>\n",
       "        </tr>\n",
       "    </tbody>\n",
       "</table>"
      ],
      "text/plain": [
       "[('01', 'Failure (drone ship)', 'F9 v1.1 B1012'),\n",
       " ('04', 'Failure (drone ship)', 'F9 v1.1 B1015')]"
      ]
     },
     "execution_count": 26,
     "metadata": {},
     "output_type": "execute_result"
    }
   ],
   "source": [
    "%%sql SELECT SUBSTR(DATE,6,2) AS MONTH, LANDING_OUTCOME, BOOSTER_VERSION FROM SPACEX\n",
    "WHERE SUBSTR(DATE,1,4) = '2015' AND LANDING_OUTCOME = 'Failure (drone ship)'"
   ]
  },
  {
   "cell_type": "markdown",
   "metadata": {},
   "source": [
    "### Task 10\n",
    "\n",
    "\n",
    "\n",
    "\n",
    "##### Rank the  count of  successful landing_outcomes between the date 04-06-2010 and 20-03-2017 in descending order.\n"
   ]
  },
  {
   "cell_type": "code",
   "execution_count": 56,
   "metadata": {
    "tags": []
   },
   "outputs": [
    {
     "name": "stdout",
     "output_type": "stream",
     "text": [
      " * sqlite:///my_data1.db\n",
      "Done.\n"
     ]
    },
    {
     "data": {
      "text/html": [
       "<table>\n",
       "    <thead>\n",
       "        <tr>\n",
       "            <th>Landing_Outcome</th>\n",
       "            <th>COUNT(LANDING_OUTCOME)</th>\n",
       "        </tr>\n",
       "    </thead>\n",
       "    <tbody>\n",
       "        <tr>\n",
       "            <td>Success (ground pad)</td>\n",
       "            <td>3</td>\n",
       "        </tr>\n",
       "        <tr>\n",
       "            <td>Success (drone ship)</td>\n",
       "            <td>5</td>\n",
       "        </tr>\n",
       "    </tbody>\n",
       "</table>"
      ],
      "text/plain": [
       "[('Success (ground pad)', 3), ('Success (drone ship)', 5)]"
      ]
     },
     "execution_count": 56,
     "metadata": {},
     "output_type": "execute_result"
    }
   ],
   "source": [
    "%%sql SELECT LANDING_OUTCOME, COUNT(LANDING_OUTCOME) FROM SPACEX \n",
    "WHERE DATE BETWEEN '2010-06-04' AND '2017-03-20'\n",
    "GROUP BY LANDING_OUTCOME \n",
    "HAVING LANDING_OUTCOME LIKE 'Success%'\n",
    "ORDER BY 1 DESC"
   ]
  },
  {
   "cell_type": "markdown",
   "metadata": {},
   "source": [
    "### Reference Links\n",
    "\n",
    "* <a href =\"https://cf-courses-data.s3.us.cloud-object-storage.appdomain.cloud/IBMDeveloperSkillsNetwork-DB0201EN-SkillsNetwork/labs/Labs_Coursera_V5/labs/Lab%20-%20String%20Patterns%20-%20Sorting%20-%20Grouping/instructional-labs.md.html?origin=www.coursera.org\">Hands-on Lab : String Patterns, Sorting and Grouping</a>  \n",
    "\n",
    "*  <a  href=\"https://cf-courses-data.s3.us.cloud-object-storage.appdomain.cloud/IBMDeveloperSkillsNetwork-DB0201EN-SkillsNetwork/labs/Labs_Coursera_V5/labs/Lab%20-%20Built-in%20functions%20/Hands-on_Lab__Built-in_Functions.md.html?origin=www.coursera.org\">Hands-on Lab: Built-in functions</a>\n",
    "\n",
    "*  <a  href=\"https://cf-courses-data.s3.us.cloud-object-storage.appdomain.cloud/IBMDeveloperSkillsNetwork-DB0201EN-SkillsNetwork/labs/Labs_Coursera_V5/labs/Lab%20-%20Sub-queries%20and%20Nested%20SELECTs%20/instructional-labs.md.html?origin=www.coursera.org\">Hands-on Lab : Sub-queries and Nested SELECT Statements</a>\n",
    "\n",
    "*   <a href=\"https://cf-courses-data.s3.us.cloud-object-storage.appdomain.cloud/IBMDeveloperSkillsNetwork-DB0201EN-SkillsNetwork/labs/Module%205/DB0201EN-Week3-1-3-SQLmagic.ipynb\">Hands-on Tutorial: Accessing Databases with SQL magic</a>\n",
    "\n",
    "*  <a href= \"https://cf-courses-data.s3.us.cloud-object-storage.appdomain.cloud/IBMDeveloperSkillsNetwork-DB0201EN-SkillsNetwork/labs/Module%205/DB0201EN-Week3-1-4-Analyzing.ipynb\">Hands-on Lab: Analyzing a real World Data Set</a>\n",
    "\n",
    "\n"
   ]
  },
  {
   "cell_type": "markdown",
   "metadata": {},
   "source": [
    "## Author(s)\n",
    "\n",
    "<h4> Lakshmi Holla </h4>\n"
   ]
  },
  {
   "cell_type": "markdown",
   "metadata": {},
   "source": [
    "## Other Contributors\n",
    "\n",
    "<h4> Rav Ahuja </h4>\n"
   ]
  },
  {
   "cell_type": "markdown",
   "metadata": {},
   "source": [
    "## Change log\n",
    "| Date | Version | Changed by | Change Description |\n",
    "|------|--------|--------|---------|\n",
    "| 2021-07-09 | 0.2 |Lakshmi Holla | Changes made in magic sql|\n",
    "| 2021-05-20 | 0.1 |Lakshmi Holla | Created Initial Version |\n"
   ]
  },
  {
   "cell_type": "markdown",
   "metadata": {},
   "source": [
    "## <h3 align=\"center\"> © IBM Corporation 2021. All rights reserved. <h3/>\n"
   ]
  }
 ],
 "metadata": {
  "kernelspec": {
   "display_name": "Python",
   "language": "python",
   "name": "conda-env-python-py"
  },
  "language_info": {
   "codemirror_mode": {
    "name": "ipython",
    "version": 3
   },
   "file_extension": ".py",
   "mimetype": "text/x-python",
   "name": "python",
   "nbconvert_exporter": "python",
   "pygments_lexer": "ipython3",
   "version": "3.7.12"
  }
 },
 "nbformat": 4,
 "nbformat_minor": 4
}
